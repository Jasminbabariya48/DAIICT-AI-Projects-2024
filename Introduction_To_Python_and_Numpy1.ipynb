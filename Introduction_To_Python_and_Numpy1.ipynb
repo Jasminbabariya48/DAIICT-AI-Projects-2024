{
  "nbformat": 4,
  "nbformat_minor": 0,
  "metadata": {
    "colab": {
      "provenance": []
    },
    "kernelspec": {
      "name": "python3",
      "display_name": "Python 3"
    },
    "language_info": {
      "name": "python"
    }
  },
  "cells": [
    {
      "cell_type": "markdown",
      "source": [
        "## **What is Python ?**\n",
        "> Python is a popular, open source high-level programming language released in 1991. It is a platform independent ***interpreted*** language.\n",
        "\n",
        "## **What can it be used for ?**\n",
        "*   Data Science\n",
        "*   Machine Learning & AI\n",
        "*   Web Development (Server Side)\n",
        "*   GUI Development\n",
        "*   Scientific & Numeric Programming\n",
        "\n",
        "## **Why Python ?**\n",
        "1.   Simple, easy-to-learn syntax\n",
        "2.  There exists inbuilt functions for almost all of the frequently used concepts.\n",
        "3.   Supports a wide array of third-party modules and libraries\n"
      ],
      "metadata": {
        "id": "PLVDNGmSISCr"
      }
    },
    {
      "cell_type": "markdown",
      "source": [
        "# **Hello World! in C++**\n",
        "```\n",
        "#include <stdio.h>\n",
        "\n",
        "int main(){\n",
        "    cout<<\"Hello World!\"<<endl;\n",
        "    return 0;\n",
        "}\n",
        "```"
      ],
      "metadata": {
        "id": "N6-hq_DQI4Vt"
      }
    },
    {
      "cell_type": "markdown",
      "source": [
        "# **Python vs. C/C++**\n",
        "\n",
        "1. No  `;` in Python!\n",
        "\n",
        "Unlike C/C++ a python statement does not require a `;` to terminate. But, every python statement must be placed in a new line.\n",
        "\n",
        "2. No `{ }` in Python!\n",
        "\n",
        "Python does not use `{ }` to define blocks in code like in C/C++. Instead, python brings a new headache of ***Indentation***."
      ],
      "metadata": {
        "id": "BadRa-FIJcSq"
      }
    },
    {
      "cell_type": "markdown",
      "source": [
        "## Writing our first program\n",
        "\n"
      ],
      "metadata": {
        "id": "YEHT8AcKE0Bk"
      }
    },
    {
      "cell_type": "code",
      "source": [
        "#Script begins from here\n",
        "print('Hello, World')\n",
        "# Thats all, no imports required"
      ],
      "metadata": {
        "colab": {
          "base_uri": "https://localhost:8080/"
        },
        "id": "7yD3wOd_E3GW",
        "outputId": "9f39f4ba-92e7-4921-84ab-798baff90026"
      },
      "execution_count": 1,
      "outputs": [
        {
          "output_type": "stream",
          "name": "stdout",
          "text": [
            "Hello, World\n"
          ]
        }
      ]
    },
    {
      "cell_type": "markdown",
      "source": [
        "* The `print()` function also takes two other optional arguements:\n",
        "1. **sep** = *'separator'* : Specify how to separate two objects. Set to ' ' by default.\n",
        "2. **end** = *'end'* : Specify what to print at the end of line. Set to '\\n' by default."
      ],
      "metadata": {
        "id": "3kx340CkqMHc"
      }
    },
    {
      "cell_type": "code",
      "source": [
        "print('Hello', 'World', sep=\"\")\n",
        "print('Hello', 'World')"
      ],
      "metadata": {
        "id": "HZJC4BeRCTwx",
        "colab": {
          "base_uri": "https://localhost:8080/"
        },
        "outputId": "49431f6f-35d0-4b8b-c456-55c78d7c4f71"
      },
      "execution_count": 2,
      "outputs": [
        {
          "output_type": "stream",
          "name": "stdout",
          "text": [
            "HelloWorld\n",
            "Hello World\n"
          ]
        }
      ]
    },
    {
      "cell_type": "code",
      "source": [
        "print(\"Hello\", end=\"\")\n",
        "print(\"World!\")"
      ],
      "metadata": {
        "id": "tqIPrJBUJ9rU",
        "colab": {
          "base_uri": "https://localhost:8080/"
        },
        "outputId": "436d0c9a-becf-4588-ca3d-c4b8384ce341"
      },
      "execution_count": 3,
      "outputs": [
        {
          "output_type": "stream",
          "name": "stdout",
          "text": [
            "HelloWorld!\n"
          ]
        }
      ]
    },
    {
      "cell_type": "code",
      "source": [
        "#Writing two statements in the same line is invalid in python but not in C/C++\n",
        "a=1\n",
        "b=5\n",
        "print(a+b)"
      ],
      "metadata": {
        "colab": {
          "base_uri": "https://localhost:8080/"
        },
        "id": "cv052RIhJrQs",
        "outputId": "8ecafe70-396d-4e1a-dabf-a24241185eae"
      },
      "execution_count": 4,
      "outputs": [
        {
          "output_type": "stream",
          "name": "stdout",
          "text": [
            "6\n"
          ]
        }
      ]
    },
    {
      "cell_type": "markdown",
      "source": [
        "# **Indentation**"
      ],
      "metadata": {
        "id": "AeZ_6-auKvip"
      }
    },
    {
      "cell_type": "markdown",
      "source": [
        "1. Python uses the idea of indentation to highlight the blocks of code. While in C/C++ or other programming languages it is just for the sake of code readability.\n",
        "\n",
        "2. Wrong indentation can cause **undetectable** errors to your code.\n"
      ],
      "metadata": {
        "id": "2IhvekkNK66d"
      }
    },
    {
      "cell_type": "code",
      "source": [
        "# Python program to show indentation\n",
        "x=10\n",
        "if x>13:\n",
        "  print('Hello')\n",
        "else:\n",
        "  print('World')\n",
        "print('This is indentation')"
      ],
      "metadata": {
        "colab": {
          "base_uri": "https://localhost:8080/"
        },
        "id": "91wHAsvBLnjs",
        "outputId": "295ceb10-00db-484d-b4ac-d505020fdc13"
      },
      "execution_count": 5,
      "outputs": [
        {
          "output_type": "stream",
          "name": "stdout",
          "text": [
            "World\n",
            "This is indentation\n"
          ]
        }
      ]
    },
    {
      "cell_type": "markdown",
      "source": [
        "## **Variables in Python**\n",
        "\n",
        "*   Python has no command to declare variable. Like 'int x=10;'.\n",
        "*   But the rules for variable naming are similar to that in C/C++. A variable name can contain only alphanumeric characters and underscores and cannot start with a number. They are case-sensitive.\n",
        "*  Variables do not require a data type when initialized and data type of any variable can be changed as required.\n",
        "* A variable is created whenever it is initialized.\n"
      ],
      "metadata": {
        "id": "H-bdOCPQP_iu"
      }
    },
    {
      "cell_type": "code",
      "source": [
        "x=222222222222222222222222222222222222222222222222222222222222222\n",
        "print(x)"
      ],
      "metadata": {
        "colab": {
          "base_uri": "https://localhost:8080/"
        },
        "id": "aS8rg3f1RZzN",
        "outputId": "9c2eb7cd-a7a8-49fa-e01e-4020b6f54ee5"
      },
      "execution_count": 6,
      "outputs": [
        {
          "output_type": "stream",
          "name": "stdout",
          "text": [
            "222222222222222222222222222222222222222222222222222222222222222\n"
          ]
        }
      ]
    },
    {
      "cell_type": "markdown",
      "source": [
        "\n",
        "\n",
        "*   Multiple variables can be initialized in a single statement. For eg.\n"
      ],
      "metadata": {
        "id": "PnVLFmmaRs49"
      }
    },
    {
      "cell_type": "code",
      "source": [
        "x,y,z=1, 2.2, \"Hello\"\n",
        "print(x,y,z)"
      ],
      "metadata": {
        "colab": {
          "base_uri": "https://localhost:8080/"
        },
        "id": "sY0ZDvY6SA5G",
        "outputId": "6fb5eb80-5afa-49dd-9c34-863fc903725c"
      },
      "execution_count": 7,
      "outputs": [
        {
          "output_type": "stream",
          "name": "stdout",
          "text": [
            "1 2.2 Hello\n"
          ]
        }
      ]
    },
    {
      "cell_type": "markdown",
      "source": [
        "# Operators in Python"
      ],
      "metadata": {
        "id": "xC2erF9XLEfo"
      }
    },
    {
      "cell_type": "markdown",
      "source": [
        "## **Arithmetic Operators**\n",
        "\n",
        "Operator | Name\n",
        "--- | ---\n",
        "`+` | Addition\n",
        "`-` | Subtraction\n",
        "`*` | Multiplication\n",
        "`/` | Division\n",
        "`%` | Modulus\n",
        "`**`| Exponentiation (Power)\n",
        "`//`| Floor division"
      ],
      "metadata": {
        "id": "6A8hSCrGX5J7"
      }
    },
    {
      "cell_type": "code",
      "source": [
        "# Arithmetic Operators\n",
        "x=10\n",
        "y=4\n",
        "print(x+y) # Addition Operator\n",
        "print(x-y) # Subtraction Operator\n",
        "print(x*y) # Multiplication Operator\n",
        "print(x/y) # Division Operator\n",
        "print(x//y) # Floor Division Operator\n",
        "print(x**y) # pow(x,y)"
      ],
      "metadata": {
        "colab": {
          "base_uri": "https://localhost:8080/"
        },
        "id": "sfqlbBraSiUu",
        "outputId": "f65af36e-4c22-410e-f2b0-0ffd63635382"
      },
      "execution_count": 8,
      "outputs": [
        {
          "output_type": "stream",
          "name": "stdout",
          "text": [
            "14\n",
            "6\n",
            "40\n",
            "2.5\n",
            "2\n",
            "10000\n"
          ]
        }
      ]
    },
    {
      "cell_type": "markdown",
      "source": [
        "## **Assignment Operators**\n",
        "\n",
        "Operator &emsp; &emsp;| Use  &emsp;  &emsp;  &emsp;   | Equivalent\n",
        "---- |----------|------------\n",
        "`=`  | \tx = 7   |   x = 7\n",
        "`+=` |\tx += 7  | \tx = x + 7\n",
        "`-=` |\tx -= 7  | \tx = x - 7\n",
        "`*=` |\tx \\*= 7 |\tx = x * 7\n",
        "`/=` |\tx /= 7  |\tx = x / 7\n",
        "`%=` |\tx %= 7  |\tx = x % 7\n",
        "`//=`|\tx //= 7 |\tx = x // 7\n",
        "`**=`|\tx **= 7 |\tx = x ** 7\n",
        "`&=` |\tx &= 7  |\tx = x & 7\n",
        "`\\|=`|\tx \\|= 7 |   x = x \\| 7\n",
        "`^=` |\tx ^= 7  |\tx = x ^ 7\n",
        "`>>=`|\tx >>= 7 |\tx = x >> 7\n",
        "`<<=`|\tx <<= 7 |\tx = x << 7"
      ],
      "metadata": {
        "id": "KPgwZAPpXrKU"
      }
    },
    {
      "cell_type": "code",
      "source": [
        "# Assignment Operators\n",
        "x = 4;\n",
        "x **= 3;\n",
        "print(x)"
      ],
      "metadata": {
        "id": "eUmaAPW_UFSV",
        "colab": {
          "base_uri": "https://localhost:8080/"
        },
        "outputId": "8ffdf97f-0a41-4d49-97ed-03818385d716"
      },
      "execution_count": 9,
      "outputs": [
        {
          "output_type": "stream",
          "name": "stdout",
          "text": [
            "64\n"
          ]
        }
      ]
    },
    {
      "cell_type": "markdown",
      "source": [
        "## **Python Logical Operators**\n",
        "\n",
        "* In python logical operators are used directly by name. We do not have `&&` and `||` in python.\n",
        "\n",
        "Operator | Description | Example\n",
        "---|---|---\n",
        "`and` | True if both conditions are true |\tx < 4 and  x < 14\n",
        "`or`\t| True if any one of the condition is true |\tx < 10 or x > 20\n",
        "`not`\t| Returns False if the result is True and vice versa &nbsp;|\tnot(x < 5 and x < 10)"
      ],
      "metadata": {
        "id": "x_7OlCRnYLRZ"
      }
    },
    {
      "cell_type": "code",
      "source": [
        "# Logical Operators\n",
        "# In python we use logical operators directly by their name instead of && and ||\n",
        "\n",
        "x=10\n",
        "if x>5 and x<15:\n",
        "  print('Hello')\n",
        "if x>15 or x<20:\n",
        "  print('World')"
      ],
      "metadata": {
        "id": "XpITRXc6UOP6",
        "colab": {
          "base_uri": "https://localhost:8080/"
        },
        "outputId": "391c6378-bafa-4d1a-8a61-9aa4f0673dac"
      },
      "execution_count": 10,
      "outputs": [
        {
          "output_type": "stream",
          "name": "stdout",
          "text": [
            "Hello\n",
            "World\n"
          ]
        }
      ]
    },
    {
      "cell_type": "markdown",
      "source": [
        "## **Taking input in python**"
      ],
      "metadata": {
        "id": "omJSJOOlMX-1"
      }
    },
    {
      "cell_type": "markdown",
      "source": [
        "Taking input in python is fairly easy and we use the input() function to do so"
      ],
      "metadata": {
        "id": "LjPBLLaTWPsf"
      }
    },
    {
      "cell_type": "code",
      "source": [
        "name = input(\"What is your name ? \")\n",
        "print(\"Welcome \" + name)"
      ],
      "metadata": {
        "colab": {
          "base_uri": "https://localhost:8080/"
        },
        "id": "6IJ55JStWgGR",
        "outputId": "301416a9-f46e-4f51-e862-3e8d41299c3a"
      },
      "execution_count": 11,
      "outputs": [
        {
          "output_type": "stream",
          "name": "stdout",
          "text": [
            "What is your name ? Jasmin\n",
            "Welcome Jasmin\n"
          ]
        }
      ]
    },
    {
      "cell_type": "code",
      "source": [
        "x= input()\n",
        "print(x, type(x)) # Input is taken by default in string type, so we need to typecast."
      ],
      "metadata": {
        "colab": {
          "base_uri": "https://localhost:8080/"
        },
        "id": "PrMzsg-mWqkg",
        "outputId": "2d0d5ada-b243-4539-f3d0-3e974a51ef7c"
      },
      "execution_count": 12,
      "outputs": [
        {
          "output_type": "stream",
          "name": "stdout",
          "text": [
            "10\n",
            "10 <class 'str'>\n"
          ]
        }
      ]
    },
    {
      "cell_type": "markdown",
      "source": [
        "##**Type Casting**\n",
        "\n",
        "* Type casting can be used to convert variables from one type to another."
      ],
      "metadata": {
        "id": "3DkDYpnCMtl1"
      }
    },
    {
      "cell_type": "code",
      "source": [
        "x = float(input(\"Enter a number: \"))\n",
        "print(x + 10)"
      ],
      "metadata": {
        "colab": {
          "base_uri": "https://localhost:8080/"
        },
        "id": "GiSCyxRSXVTl",
        "outputId": "79701e02-16a5-4603-ef29-0b3223f65272"
      },
      "execution_count": 13,
      "outputs": [
        {
          "output_type": "stream",
          "name": "stdout",
          "text": [
            "Enter a number: 20\n",
            "30.0\n"
          ]
        }
      ]
    },
    {
      "cell_type": "markdown",
      "source": [
        "Type casting can be mainly done with these data type function:\n",
        "* `str()` : Convert int or float type to string\n",
        "* `int()` : Convert string or float type to integer\n",
        "* `float()` : Convert string or int type to float"
      ],
      "metadata": {
        "id": "XbWyHBO5XaUq"
      }
    },
    {
      "cell_type": "code",
      "source": [
        "x_int = 10\n",
        "x_str = \"12\"\n",
        "x_float = 14.7\n",
        "\n",
        "# str()\n",
        "print(\"Result: \" + str(x_int));\n",
        "print(\"Result: \" + str(x_float));\n",
        "print('')\n",
        "\n",
        "# int()\n",
        "print(3 + x_float)\n",
        "print(3 + int(x_float))\n",
        "print(4 + int(x_str), type(int(x_str)))\n",
        "print('')\n",
        "\n",
        "# float()\n",
        "print(1.2 + float(x_int), type(float(x_int)))\n",
        "print(1.3 + float(x_str))\n",
        "print('')\n",
        "\n",
        "# original variable types\n",
        "print(type(x_int), type(x_str), type(x_float))"
      ],
      "metadata": {
        "colab": {
          "base_uri": "https://localhost:8080/"
        },
        "id": "m9uVsvlNXdUA",
        "outputId": "9a6f4b4b-bd44-4a4e-a4f2-0040866839d8"
      },
      "execution_count": 14,
      "outputs": [
        {
          "output_type": "stream",
          "name": "stdout",
          "text": [
            "Result: 10\n",
            "Result: 14.7\n",
            "\n",
            "17.7\n",
            "17\n",
            "16 <class 'int'>\n",
            "\n",
            "11.2 <class 'float'>\n",
            "13.3\n",
            "\n",
            "<class 'int'> <class 'str'> <class 'float'>\n"
          ]
        }
      ]
    },
    {
      "cell_type": "markdown",
      "source": [
        "* One must note that the type casting functions do not change the type of the original variable but instead return a new value of the desired type. To change type of the original variable one can use,"
      ],
      "metadata": {
        "id": "pdKhCw1dXjJ4"
      }
    },
    {
      "cell_type": "code",
      "source": [
        "x = \"10\"\n",
        "print(type(x))\n",
        "y = int(x)\n",
        "print(type(x), type(y))"
      ],
      "metadata": {
        "colab": {
          "base_uri": "https://localhost:8080/"
        },
        "id": "1q1NOd3CXkAm",
        "outputId": "23fa4611-e859-46c5-f30d-9943c5223b53"
      },
      "execution_count": 15,
      "outputs": [
        {
          "output_type": "stream",
          "name": "stdout",
          "text": [
            "<class 'str'>\n",
            "<class 'str'> <class 'int'>\n"
          ]
        }
      ]
    },
    {
      "cell_type": "markdown",
      "source": [
        "## Coding Problem - 1"
      ],
      "metadata": {
        "id": "WAx_O-RUS1n1"
      }
    },
    {
      "cell_type": "code",
      "source": [
        "# Write a program that takes a user's name and age as input and prints a Hello World! message that includes their name and age.\n"
      ],
      "metadata": {
        "id": "EuPLCH6WS6eG"
      },
      "execution_count": 16,
      "outputs": []
    },
    {
      "cell_type": "code",
      "source": [
        "user = input(\"Enter your name: \")\n",
        "age = int(input(\"Enter your age: \"))\n",
        "\n",
        "print(\"Hello World. My name is:\", user, \"My age is:\", age)"
      ],
      "metadata": {
        "colab": {
          "base_uri": "https://localhost:8080/"
        },
        "id": "0kDF8SgcwA10",
        "outputId": "3e08d541-cbef-4298-f9f6-18e6bf5cd87a"
      },
      "execution_count": 17,
      "outputs": [
        {
          "output_type": "stream",
          "name": "stdout",
          "text": [
            "Enter your name: Jasmin\n",
            "Enter your age: 21\n",
            "Hello World. My name is: Jasmin My age is: 21\n"
          ]
        }
      ]
    },
    {
      "cell_type": "code",
      "source": [
        "# Create a program that swaps the values of two variables without using a third variable."
      ],
      "metadata": {
        "id": "GDM0iGNXTEfT"
      },
      "execution_count": 18,
      "outputs": []
    },
    {
      "cell_type": "code",
      "source": [
        "# Input values\n",
        "a = int(input(\"Enter the value of a: \"))\n",
        "b = int(input(\"Enter the value of b: \"))\n",
        "\n",
        "# Swap using arithmetic operations\n",
        "a = a + b\n",
        "b = a - b\n",
        "a = a - b\n",
        "\n",
        "# Output the swapped values\n",
        "print(f\"After swapping: a = {a}, b = {b}\")\n"
      ],
      "metadata": {
        "colab": {
          "base_uri": "https://localhost:8080/"
        },
        "id": "3H8LLuuZxMK1",
        "outputId": "8b6c1bfe-fbc2-4bfe-9a83-9a44030b3a02"
      },
      "execution_count": 19,
      "outputs": [
        {
          "output_type": "stream",
          "name": "stdout",
          "text": [
            "Enter the value of a: 10\n",
            "Enter the value of b: 5\n",
            "After swapping: a = 5, b = 10\n"
          ]
        }
      ]
    },
    {
      "cell_type": "markdown",
      "source": [
        "# **Strings in Python**\n",
        "\n",
        "* Any data within double quotes `\" \"` or single quotes `' '` is treated as a string in Python.\n"
      ],
      "metadata": {
        "id": "7ipifTRTQ1wa"
      }
    },
    {
      "cell_type": "code",
      "source": [
        "myString = 'Python is Fun!'\n",
        "myString = \"Python is Fun!\""
      ],
      "metadata": {
        "id": "yVb4UORzRCGu"
      },
      "execution_count": 20,
      "outputs": []
    },
    {
      "cell_type": "markdown",
      "source": [
        "* A multiline string can be assigned to a variable using three quotes."
      ],
      "metadata": {
        "id": "xcUwB6ZZRCyL"
      }
    },
    {
      "cell_type": "code",
      "source": [
        "myMultiString = \"\"\"This is\n",
        "a multiline\n",
        "string.\"\"\"\n",
        "print(myMultiString)"
      ],
      "metadata": {
        "id": "vUYafE2_RFf2",
        "colab": {
          "base_uri": "https://localhost:8080/"
        },
        "outputId": "8a4d06b2-9128-4341-f308-afd807a1140a"
      },
      "execution_count": 21,
      "outputs": [
        {
          "output_type": "stream",
          "name": "stdout",
          "text": [
            "This is\n",
            "a multiline\n",
            "string.\n"
          ]
        }
      ]
    },
    {
      "cell_type": "markdown",
      "source": [
        "* Using this as a workaround, we can simply enclose code between three quotes (single or double) to commment them. Python will treat it as a string which is not assigned to any variable and will hence ignore it.\n"
      ],
      "metadata": {
        "id": "3KO8xq6ARP3u"
      }
    },
    {
      "cell_type": "code",
      "source": [
        "'''\n",
        "print(\"Hello!\")\n",
        "print(\"World\")\n",
        "'''\n",
        "print(\"I Love Python!\")"
      ],
      "metadata": {
        "id": "IfznS99WRS1f",
        "colab": {
          "base_uri": "https://localhost:8080/"
        },
        "outputId": "4db69274-a590-4ab6-dcd8-f598b455b4f9"
      },
      "execution_count": 22,
      "outputs": [
        {
          "output_type": "stream",
          "name": "stdout",
          "text": [
            "I Love Python!\n"
          ]
        }
      ]
    },
    {
      "cell_type": "markdown",
      "source": [
        "* Python is packed with many string ***methods*** which make working with strings very easy."
      ],
      "metadata": {
        "id": "DaIvZ_d4RXnz"
      }
    },
    {
      "cell_type": "code",
      "source": [
        "s1 = \"Thisisastring\"\n",
        "\n",
        "# Formatting\n",
        "print(s1.upper())\n",
        "print(s1.lower())\n",
        "print(s1.swapcase())\n",
        "print()\n",
        "\n",
        "# Boolean checks\n",
        "print(s1.isalpha())\n",
        "print(s1.isnumeric())"
      ],
      "metadata": {
        "id": "lmYyoeT_RYzy",
        "colab": {
          "base_uri": "https://localhost:8080/"
        },
        "outputId": "c68dbb04-3a58-47c8-bf20-5e24f01ebb36"
      },
      "execution_count": 23,
      "outputs": [
        {
          "output_type": "stream",
          "name": "stdout",
          "text": [
            "THISISASTRING\n",
            "thisisastring\n",
            "tHISISASTRING\n",
            "\n",
            "True\n",
            "False\n"
          ]
        }
      ]
    },
    {
      "cell_type": "markdown",
      "source": [
        "## **`split()` and `join()` string methods**\n",
        "\n",
        "* `split()` : Splits the string in chunks separated by the input arguement.\n",
        "* `join()` : Joins the items in iterable given as arguement, with the calling string as separator and returns new string."
      ],
      "metadata": {
        "id": "fGhp-TQXRcVg"
      }
    },
    {
      "cell_type": "code",
      "source": [
        "sample = \"Python_is_Fun!\"\n",
        "stringList = sample.split('_')   #Default separator is ' '\n",
        "print(stringList)"
      ],
      "metadata": {
        "id": "U6bnGE7QRfk1",
        "colab": {
          "base_uri": "https://localhost:8080/"
        },
        "outputId": "00e62c68-29e0-4622-b4d5-432d08e91efa"
      },
      "execution_count": 24,
      "outputs": [
        {
          "output_type": "stream",
          "name": "stdout",
          "text": [
            "['Python', 'is', 'Fun!']\n"
          ]
        }
      ]
    },
    {
      "cell_type": "code",
      "source": [
        "separator = \"_\"\n",
        "joinedStr = \"++++\".join(stringList)  # stringList is a python iterable\n",
        "print(joinedStr)"
      ],
      "metadata": {
        "id": "aIDyceArRkt8",
        "colab": {
          "base_uri": "https://localhost:8080/"
        },
        "outputId": "396a6387-f951-4f3b-8bf3-8fedd5e7b7b9"
      },
      "execution_count": 25,
      "outputs": [
        {
          "output_type": "stream",
          "name": "stdout",
          "text": [
            "Python++++is++++Fun!\n"
          ]
        }
      ]
    },
    {
      "cell_type": "markdown",
      "metadata": {
        "id": "TAcvS5CXwc55"
      },
      "source": [
        "# **Python Loops**\n",
        "\n",
        "\n"
      ]
    },
    {
      "cell_type": "markdown",
      "metadata": {
        "id": "ckYq3agCzvWx"
      },
      "source": [
        "## **While Loop**\n",
        "* The while loop will execute the code block as long as the given condition is true."
      ]
    },
    {
      "cell_type": "code",
      "execution_count": 26,
      "metadata": {
        "colab": {
          "base_uri": "https://localhost:8080/"
        },
        "id": "d16yQYCvw2zQ",
        "outputId": "f97dee51-6792-4b27-8069-08a2b29d4a14"
      },
      "outputs": [
        {
          "output_type": "stream",
          "name": "stdout",
          "text": [
            "10 9 8 7 6 5 4 3 2 1 "
          ]
        }
      ],
      "source": [
        "counter = 10\n",
        "while counter > 0:\n",
        "    print(counter, end=' ')\n",
        "    counter -= 1                # Python does not support counter --"
      ]
    },
    {
      "cell_type": "markdown",
      "metadata": {
        "id": "8kjyQ928xKYR"
      },
      "source": [
        "### `break` statement :\n",
        " Used to break out of the loop without the loop condition being evaluated to false."
      ]
    },
    {
      "cell_type": "code",
      "execution_count": 27,
      "metadata": {
        "colab": {
          "base_uri": "https://localhost:8080/"
        },
        "id": "T1zyp4nBxWWl",
        "outputId": "33adb8d1-116a-4daf-c4ef-d82409822d96"
      },
      "outputs": [
        {
          "output_type": "stream",
          "name": "stdout",
          "text": [
            "10 9 8 7 6 5 "
          ]
        }
      ],
      "source": [
        "counter = 10\n",
        "while counter > 0:\n",
        "    print(counter, end=' ')\n",
        "    if counter == 5:\n",
        "        break\n",
        "    counter -= 1\n",
        "#print('\\n',counter) Can anyone guess the value of the counter here?"
      ]
    },
    {
      "cell_type": "markdown",
      "metadata": {
        "id": "dX4qUnoaxmLh"
      },
      "source": [
        "### `continue` statement:\n",
        "Used to *continue* the next iteration of the loop without executing the lines after this statement.\n"
      ]
    },
    {
      "cell_type": "code",
      "execution_count": 28,
      "metadata": {
        "colab": {
          "base_uri": "https://localhost:8080/"
        },
        "id": "DM0uIKyXxhlt",
        "outputId": "8ab16835-5a6d-4eb7-cdd1-59872ec2524a"
      },
      "outputs": [
        {
          "output_type": "stream",
          "name": "stdout",
          "text": [
            "10 8 6 4 2 "
          ]
        }
      ],
      "source": [
        "counter = 10\n",
        "while counter > 0:\n",
        "    if counter%2 == 1:\n",
        "        counter -= 1\n",
        "        continue                    # Can you spot a bug in this code ?\n",
        "    print(counter, end=' ')\n",
        "    counter -= 1"
      ]
    },
    {
      "cell_type": "markdown",
      "metadata": {
        "id": "gRM9XY6lyay1"
      },
      "source": [
        "### `else` statement in Loop\n",
        "\n",
        "In python, we can write an `else` block after the loop. This block is executed once the loop condition evaluates to false."
      ]
    },
    {
      "cell_type": "code",
      "execution_count": 29,
      "metadata": {
        "colab": {
          "base_uri": "https://localhost:8080/"
        },
        "id": "ZsobmxJ8y4hV",
        "outputId": "093c3157-b6e8-47a6-df94-a0f5d7bef2ae"
      },
      "outputs": [
        {
          "output_type": "stream",
          "name": "stdout",
          "text": [
            "10 "
          ]
        }
      ],
      "source": [
        "counter = 10\n",
        "while counter > 0:\n",
        "    print(counter, end=' ')\n",
        "    break\n",
        "    counter -= 1\n",
        "else:\n",
        "    print(\"\\nFinal Counter:\", counter)"
      ]
    },
    {
      "cell_type": "markdown",
      "metadata": {
        "id": "m7A3r_O-zchj"
      },
      "source": [
        "* If `break` statement is used to exit loop, `else` block will NOT be executed."
      ]
    },
    {
      "cell_type": "markdown",
      "metadata": {
        "id": "zbNwiHOAzz4Z"
      },
      "source": [
        "## **For Loop**\n",
        "* The for loop is usually executed for a range of numbers or items.\n"
      ]
    },
    {
      "cell_type": "code",
      "execution_count": 30,
      "metadata": {
        "colab": {
          "base_uri": "https://localhost:8080/"
        },
        "id": "D-8jomOi0JoP",
        "outputId": "449ef40b-7720-476b-9424-40264cae2f6a"
      },
      "outputs": [
        {
          "output_type": "stream",
          "name": "stdout",
          "text": [
            "Python\n",
            "C\n",
            "Ruby\n",
            "Java\n"
          ]
        }
      ],
      "source": [
        "lang = [\"Python\", \"C\", \"Ruby\", \"Java\"]\n",
        "for x in lang:             # x serves as a temp variable\n",
        "    print(x)"
      ]
    },
    {
      "cell_type": "code",
      "execution_count": 31,
      "metadata": {
        "colab": {
          "base_uri": "https://localhost:8080/"
        },
        "id": "JY_Z9A2F0p4y",
        "outputId": "42e2f386-4e70-42e5-a33e-64d2cba1370f"
      },
      "outputs": [
        {
          "output_type": "stream",
          "name": "stdout",
          "text": [
            "I\n",
            "n\n",
            "d\n",
            "i\n",
            "a\n"
          ]
        }
      ],
      "source": [
        "# Looping through a string\n",
        "for c in \"India\":\n",
        "  print(c)"
      ]
    },
    {
      "cell_type": "markdown",
      "metadata": {
        "id": "SIDTd8Th0kky"
      },
      "source": [
        "### **`range()` function**\n",
        "\n",
        "* The `range(start, end, step)` function is used to create a sequence of numbers from `start` to `end` with an increment of `step`.\n",
        "* `end` is not included in the sequence.\n",
        "\n",
        "`range()` can be used in three ways:"
      ]
    },
    {
      "cell_type": "code",
      "execution_count": 32,
      "metadata": {
        "colab": {
          "base_uri": "https://localhost:8080/"
        },
        "id": "ahsmnHLR1rYL",
        "outputId": "9dffb1fd-3050-40c9-f931-0715c51c635e"
      },
      "outputs": [
        {
          "output_type": "stream",
          "name": "stdout",
          "text": [
            "0 1 2 3 4 "
          ]
        }
      ],
      "source": [
        "# If only a single arguement is given, range defaults start value to 0.\n",
        "# Value of step is taken 1 by default.\n",
        "\n",
        "for i in range(5):\n",
        "    print(i, end=\" \")"
      ]
    },
    {
      "cell_type": "code",
      "execution_count": 33,
      "metadata": {
        "colab": {
          "base_uri": "https://localhost:8080/"
        },
        "id": "qVJb5Wki2c9y",
        "outputId": "f39316bb-6ca0-499b-a551-5c9ac7ffd1d1"
      },
      "outputs": [
        {
          "output_type": "stream",
          "name": "stdout",
          "text": [
            "2 3 4 5 6 "
          ]
        }
      ],
      "source": [
        "for i in range(2, 7):\n",
        "    print(i, end=\" \")"
      ]
    },
    {
      "cell_type": "code",
      "execution_count": 34,
      "metadata": {
        "colab": {
          "base_uri": "https://localhost:8080/"
        },
        "id": "-j9zl3AL2hai",
        "outputId": "c41b3202-c7af-4c4b-d896-ad148ad5cea8"
      },
      "outputs": [
        {
          "output_type": "stream",
          "name": "stdout",
          "text": [
            "10 9 8 7 6 5 "
          ]
        }
      ],
      "source": [
        "for i in range(10, 4, -1):\n",
        "    print(i, end=\" \")"
      ]
    },
    {
      "cell_type": "code",
      "execution_count": 35,
      "metadata": {
        "colab": {
          "base_uri": "https://localhost:8080/"
        },
        "id": "rDD6UKu9TFRF",
        "outputId": "10c97baa-b8cd-4fd2-dfd0-9cf622485487"
      },
      "outputs": [
        {
          "output_type": "stream",
          "name": "stdout",
          "text": [
            "0\n",
            "1\n",
            "2\n",
            "3\n"
          ]
        }
      ],
      "source": [
        "ls = [0, 1, 2, 3]\n",
        "for i in range(len(ls)):\n",
        "    print(ls[i])"
      ]
    },
    {
      "cell_type": "markdown",
      "source": [
        "## Coding Problem-2"
      ],
      "metadata": {
        "id": "rQFYTSExTbUB"
      }
    },
    {
      "cell_type": "code",
      "source": [
        "# Create a program that prints the first 10 numbers of the Fibonacci sequence."
      ],
      "metadata": {
        "id": "1W9f-6RiTeaq"
      },
      "execution_count": 36,
      "outputs": []
    },
    {
      "cell_type": "code",
      "source": [
        "n_terms = 10\n",
        "\n",
        "# First two terms of the Fibonacci sequence\n",
        "a, b = 0, 1\n",
        "\n",
        "print(\"The first 10 numbers in the Fibonacci sequence are:\")\n",
        "\n",
        "for i in range(n_terms):\n",
        "    print(a, end=\" \")\n",
        "    a, b = b, a + b"
      ],
      "metadata": {
        "colab": {
          "base_uri": "https://localhost:8080/"
        },
        "id": "D6Cd38BMxVCm",
        "outputId": "bf7ac35a-175e-4fbd-cf40-e4ab3075a2a7"
      },
      "execution_count": 37,
      "outputs": [
        {
          "output_type": "stream",
          "name": "stdout",
          "text": [
            "The first 10 numbers in the Fibonacci sequence are:\n",
            "0 1 1 2 3 5 8 13 21 34 "
          ]
        }
      ]
    },
    {
      "cell_type": "markdown",
      "source": [
        "# **Python Collections**"
      ],
      "metadata": {
        "id": "YnQeYzzaSLrX"
      }
    },
    {
      "cell_type": "markdown",
      "source": [
        "## **Lists**\n",
        "\n",
        "* Python lists are used to store multiple items in a single variable.\n",
        "* An important point about lists is that they can comprise of multiple types of variables.\n",
        "* Lists are 0-indexed and any list item can be accessed using this index.\n",
        "* List items are mutable (changeable)."
      ],
      "metadata": {
        "id": "zX_bDbkDHCCf"
      }
    },
    {
      "cell_type": "code",
      "source": [
        "myList = [10, 'ListItem', 14.5, 10j]\n",
        "print(type(myList[0]), type(myList[1]), type(myList[2]), type(myList[3]))\n",
        "\n",
        "# We can get the length of a list (or any other iterable) using len()\n",
        "print(\"Length of List:\", len(myList))"
      ],
      "metadata": {
        "id": "jyyPPzblHHgo",
        "colab": {
          "base_uri": "https://localhost:8080/"
        },
        "outputId": "85c2fbe9-f6a2-4ef8-eeeb-6c7844f0b328"
      },
      "execution_count": 38,
      "outputs": [
        {
          "output_type": "stream",
          "name": "stdout",
          "text": [
            "<class 'int'> <class 'str'> <class 'float'> <class 'complex'>\n",
            "Length of List: 4\n"
          ]
        }
      ]
    },
    {
      "cell_type": "markdown",
      "source": [
        "### **List Indexing**\n",
        "\n",
        "* Lists are 0-indexed.\n",
        "* Python also supports negative indexing. In negative indexing, the last item is assigned index `-1` and decreases by 1 as we move towards the first item."
      ],
      "metadata": {
        "id": "weeOHvB6HLFX"
      }
    },
    {
      "cell_type": "code",
      "source": [
        "ls = [10, 20, 30, 40, 50, 60]\n",
        "\n",
        "print(ls[5], ls[-1])\n",
        "print(ls[4], ls[-2])\n",
        "print(ls[0], ls[-6])"
      ],
      "metadata": {
        "id": "ii4cKgX8HL_H",
        "colab": {
          "base_uri": "https://localhost:8080/"
        },
        "outputId": "41788947-25fb-4343-ff76-eb94036501b5"
      },
      "execution_count": 39,
      "outputs": [
        {
          "output_type": "stream",
          "name": "stdout",
          "text": [
            "60 60\n",
            "50 50\n",
            "10 10\n"
          ]
        }
      ]
    },
    {
      "cell_type": "markdown",
      "source": [
        "* Python also supports range indexing to get a range of items from a list.\n",
        "* The range index is of the form `[i:j]`, which returns items from index `i` to `j-1` excluding item at index `j`"
      ],
      "metadata": {
        "id": "-UkzMAQ2HWDe"
      }
    },
    {
      "cell_type": "code",
      "source": [
        "fruits = [\"apple\", \"mango\", \"orange\", \"kiwi\", \"banana\", \"cherry\", \"melon\"]\n",
        "\n",
        "print(fruits[1:3])      # Elements [1] and [2] are printed."
      ],
      "metadata": {
        "colab": {
          "base_uri": "https://localhost:8080/"
        },
        "id": "_fmohqLBHgLo",
        "outputId": "89d70486-a175-4cdd-9ce8-a039b9cab747"
      },
      "execution_count": 40,
      "outputs": [
        {
          "output_type": "stream",
          "name": "stdout",
          "text": [
            "['mango', 'orange']\n"
          ]
        }
      ]
    },
    {
      "cell_type": "code",
      "source": [
        "# If first index is left empty, it will default to first index, i.e 0.\n",
        "print(fruits[:3])"
      ],
      "metadata": {
        "colab": {
          "base_uri": "https://localhost:8080/"
        },
        "id": "Z70a3ll_Hhc5",
        "outputId": "3fec322a-02ed-42aa-88ec-2a21c763aa47"
      },
      "execution_count": 41,
      "outputs": [
        {
          "output_type": "stream",
          "name": "stdout",
          "text": [
            "['apple', 'mango', 'orange']\n"
          ]
        }
      ]
    },
    {
      "cell_type": "code",
      "source": [
        "# If last index is left empty, it will default to last index.\n",
        "print(fruits[1:])"
      ],
      "metadata": {
        "colab": {
          "base_uri": "https://localhost:8080/"
        },
        "id": "CEaFXHu6HmAU",
        "outputId": "b2af8edd-c6db-4ac4-b643-6318698431be"
      },
      "execution_count": 42,
      "outputs": [
        {
          "output_type": "stream",
          "name": "stdout",
          "text": [
            "['mango', 'orange', 'kiwi', 'banana', 'cherry', 'melon']\n"
          ]
        }
      ]
    },
    {
      "cell_type": "code",
      "source": [
        "# Negative indexing can also be used here\n",
        "print(fruits[-4:-2])\n",
        "\n",
        "print(fruits[-2:-4]) # What will this print? and Why? # Can you rectify this?"
      ],
      "metadata": {
        "colab": {
          "base_uri": "https://localhost:8080/"
        },
        "id": "qAmCNXKpIHUg",
        "outputId": "b22b2389-fa72-424d-80fe-e26ac6910697"
      },
      "execution_count": 43,
      "outputs": [
        {
          "output_type": "stream",
          "name": "stdout",
          "text": [
            "['kiwi', 'banana']\n",
            "[]\n"
          ]
        }
      ]
    },
    {
      "cell_type": "markdown",
      "source": [
        "* A double colon syntax can also be used for slicing lists. It is of the format `[start : stop : steps]`. The `steps` is the value incremented in each step.\n"
      ],
      "metadata": {
        "id": "LESXCqKbJncK"
      }
    },
    {
      "cell_type": "code",
      "source": [
        "print(fruits[1:5:2])"
      ],
      "metadata": {
        "id": "vgtPfdJuJo8b",
        "colab": {
          "base_uri": "https://localhost:8080/"
        },
        "outputId": "2a7342ce-021b-4237-c8ed-c6a0ca8de49a"
      },
      "execution_count": 44,
      "outputs": [
        {
          "output_type": "stream",
          "name": "stdout",
          "text": [
            "['mango', 'kiwi']\n"
          ]
        }
      ]
    },
    {
      "cell_type": "markdown",
      "source": [
        "* This can be used to reverse lists. Using a negative value for `steps` will iterate the list in reverse fashion."
      ],
      "metadata": {
        "id": "XO0ndm0bJvuI"
      }
    },
    {
      "cell_type": "code",
      "source": [
        "print(fruits[4:1:-1])"
      ],
      "metadata": {
        "id": "1OpoiejZJwha",
        "colab": {
          "base_uri": "https://localhost:8080/"
        },
        "outputId": "6d1798fd-e830-41f3-89bf-35d26c9d1b53"
      },
      "execution_count": 45,
      "outputs": [
        {
          "output_type": "stream",
          "name": "stdout",
          "text": [
            "['banana', 'kiwi', 'orange']\n"
          ]
        }
      ]
    },
    {
      "cell_type": "code",
      "source": [
        "# We can reverse the entire list using this\n",
        "print(fruits[::-1])\n",
        "print(fruits)"
      ],
      "metadata": {
        "id": "U57LYzmWJ--H",
        "colab": {
          "base_uri": "https://localhost:8080/"
        },
        "outputId": "56142762-3bc7-4b03-f280-1f9321548b95"
      },
      "execution_count": 46,
      "outputs": [
        {
          "output_type": "stream",
          "name": "stdout",
          "text": [
            "['melon', 'cherry', 'banana', 'kiwi', 'orange', 'mango', 'apple']\n",
            "['apple', 'mango', 'orange', 'kiwi', 'banana', 'cherry', 'melon']\n"
          ]
        }
      ]
    },
    {
      "cell_type": "markdown",
      "source": [
        "### **Adding Items**\n",
        "\n",
        "* Items can be added to lists using `append()` and `insert()`."
      ],
      "metadata": {
        "id": "v8XSZUuNKORn"
      }
    },
    {
      "cell_type": "code",
      "source": [
        "ls = [10, 20, 30]\n",
        "\n",
        "ls.append(40)       # Append adds an element to the end of the list.\n",
        "print(ls)"
      ],
      "metadata": {
        "id": "l3C2qUXMKPSe",
        "colab": {
          "base_uri": "https://localhost:8080/"
        },
        "outputId": "855e0bc4-bc2b-4301-ad89-55112397be0f"
      },
      "execution_count": 47,
      "outputs": [
        {
          "output_type": "stream",
          "name": "stdout",
          "text": [
            "[10, 20, 30, 40]\n"
          ]
        }
      ]
    },
    {
      "cell_type": "code",
      "source": [
        "ls = [10, 20, 40]\n",
        "\n",
        "ls.insert(2, 30)      # .insert(index, value)\n",
        "print(ls)"
      ],
      "metadata": {
        "id": "KHe-NhiLKVrO",
        "colab": {
          "base_uri": "https://localhost:8080/"
        },
        "outputId": "fe902d7d-01f6-4d4a-e77e-838c95b108ae"
      },
      "execution_count": 48,
      "outputs": [
        {
          "output_type": "stream",
          "name": "stdout",
          "text": [
            "[10, 20, 30, 40]\n"
          ]
        }
      ]
    },
    {
      "cell_type": "markdown",
      "source": [
        "* We can even add another list entirely."
      ],
      "metadata": {
        "id": "jwn8Dz3rKavK"
      }
    },
    {
      "cell_type": "code",
      "source": [
        "ls1 = [10, 20, 30]\n",
        "ls2 = [40, 50, 60]\n",
        "\n",
        "# Simply + operator can be used\n",
        "ls3 = ls1 + ls2\n",
        "print(ls3)\n",
        "\n",
        "\n",
        "# .extend() method can be used to add elements from any iterable\n",
        "ls1 = [10, 20, 30]\n",
        "ls1.extend(ls2)     # A new list is not returned, ls2 is appended to ls1\n",
        "print(ls1)"
      ],
      "metadata": {
        "id": "SWjTG3F7Kb1U",
        "colab": {
          "base_uri": "https://localhost:8080/"
        },
        "outputId": "649744da-9253-481d-e006-e50262ea19fc"
      },
      "execution_count": 49,
      "outputs": [
        {
          "output_type": "stream",
          "name": "stdout",
          "text": [
            "[10, 20, 30, 40, 50, 60]\n",
            "[10, 20, 30, 40, 50, 60]\n"
          ]
        }
      ]
    },
    {
      "cell_type": "markdown",
      "source": [
        "### **Removing Items**\n",
        "\n",
        "* The remove() method removes the specified item."
      ],
      "metadata": {
        "id": "2IfPW1E1KyHa"
      }
    },
    {
      "cell_type": "code",
      "source": [
        "ls = [\"India\", \"Pakistan\", \"USA\"]\n",
        "ls.remove(\"Pakistan\")\n",
        "print(ls)"
      ],
      "metadata": {
        "id": "-sV_bEnNLFgU",
        "colab": {
          "base_uri": "https://localhost:8080/"
        },
        "outputId": "0f3a25ac-612a-4791-e196-b75723690354"
      },
      "execution_count": 50,
      "outputs": [
        {
          "output_type": "stream",
          "name": "stdout",
          "text": [
            "['India', 'USA']\n"
          ]
        }
      ]
    },
    {
      "cell_type": "markdown",
      "source": [
        "* The pop() method removes the item at given index. If not specified, the last item is removed"
      ],
      "metadata": {
        "id": "bWlOVWdTLPXj"
      }
    },
    {
      "cell_type": "code",
      "source": [
        "ls = [\"India\", \"Pakistan\", \"USA\"]\n",
        "x = ls.pop()\n",
        "print(ls)\n",
        "print(x)"
      ],
      "metadata": {
        "id": "D8LE9nExLQNM",
        "colab": {
          "base_uri": "https://localhost:8080/"
        },
        "outputId": "ec6c0e1e-5842-4775-e0ff-0a833690da8b"
      },
      "execution_count": 51,
      "outputs": [
        {
          "output_type": "stream",
          "name": "stdout",
          "text": [
            "['India', 'Pakistan']\n",
            "USA\n"
          ]
        }
      ]
    },
    {
      "cell_type": "markdown",
      "source": [
        "* clear() method deletes all elements of the list"
      ],
      "metadata": {
        "id": "CQkBthoKLVLK"
      }
    },
    {
      "cell_type": "code",
      "source": [
        "ls = [\"Pakistan\", \"USA\", \"Russia\"]\n",
        "ls.clear()\n",
        "print(ls)"
      ],
      "metadata": {
        "id": "r_I1v92oLWDJ",
        "colab": {
          "base_uri": "https://localhost:8080/"
        },
        "outputId": "a3835d05-0826-4fe4-ee50-ff91f419714f"
      },
      "execution_count": 52,
      "outputs": [
        {
          "output_type": "stream",
          "name": "stdout",
          "text": [
            "[]\n"
          ]
        }
      ]
    },
    {
      "cell_type": "code",
      "source": [
        "# Similarly del also can be used.\n",
        "ls = [\"Pakistan\", \"USA\", \"Russia\"]\n",
        "del ls[0]\n",
        "print(ls)\n",
        "\n",
        "del ls\n",
        "#print(ls)"
      ],
      "metadata": {
        "id": "AsTGEEVuLdWZ",
        "colab": {
          "base_uri": "https://localhost:8080/"
        },
        "outputId": "b6055e8b-4390-4459-9de5-012d2c38462b"
      },
      "execution_count": 53,
      "outputs": [
        {
          "output_type": "stream",
          "name": "stdout",
          "text": [
            "['USA', 'Russia']\n"
          ]
        }
      ]
    },
    {
      "cell_type": "markdown",
      "source": [
        "### **Sorting**\n",
        "\n",
        "* Sorting operation can be done by simply using the sort() method.\n",
        "* By default, sorting is done in ascending order. For descending order, we set the arguement `reverse = True`"
      ],
      "metadata": {
        "id": "-ndVhfNyL4Th"
      }
    },
    {
      "cell_type": "code",
      "source": [
        "ls = [3, 5, 1, 2, 6, 7, -4, 5]\n",
        "ls.sort()                  # Inplace sorting\n",
        "print(ls)"
      ],
      "metadata": {
        "id": "ajiTGAN8L6eE",
        "colab": {
          "base_uri": "https://localhost:8080/"
        },
        "outputId": "ee78f535-a181-4342-efdc-7f8ebf524697"
      },
      "execution_count": 54,
      "outputs": [
        {
          "output_type": "stream",
          "name": "stdout",
          "text": [
            "[-4, 1, 2, 3, 5, 5, 6, 7]\n"
          ]
        }
      ]
    },
    {
      "cell_type": "code",
      "source": [
        "ls = [3, 5, 1, 2, 6, 7, -4, 5]\n",
        "ls.sort(reverse=True)       # Reverse sorting\n",
        "print(ls)"
      ],
      "metadata": {
        "id": "7psgIsNxL_Q1",
        "colab": {
          "base_uri": "https://localhost:8080/"
        },
        "outputId": "d571a899-1879-4c5a-d1ba-0c92e9bcb5e9"
      },
      "execution_count": 55,
      "outputs": [
        {
          "output_type": "stream",
          "name": "stdout",
          "text": [
            "[7, 6, 5, 5, 3, 2, 1, -4]\n"
          ]
        }
      ]
    },
    {
      "cell_type": "code",
      "source": [
        "# For creating a new variable, we can use the sorted() function.\n",
        "ls = [3, 5, 1, 2, 6, 7, -4, 5]\n",
        "print(sorted(ls))\n",
        "print(ls)"
      ],
      "metadata": {
        "id": "OK40WDccMBpL",
        "colab": {
          "base_uri": "https://localhost:8080/"
        },
        "outputId": "0a67bf86-8a3b-4581-f2cf-043988fd32c3"
      },
      "execution_count": 56,
      "outputs": [
        {
          "output_type": "stream",
          "name": "stdout",
          "text": [
            "[-4, 1, 2, 3, 5, 5, 6, 7]\n",
            "[3, 5, 1, 2, 6, 7, -4, 5]\n"
          ]
        }
      ]
    },
    {
      "cell_type": "markdown",
      "source": [
        "> Python supports a lot of methods for lists. You can refer to these methods here.\n",
        "https://www.w3schools.com/python/python_lists_methods.asp"
      ],
      "metadata": {
        "id": "CTj3_QG3MLnc"
      }
    },
    {
      "cell_type": "markdown",
      "source": [
        "####List comprehensions:"
      ],
      "metadata": {
        "id": "ydNaWdSOa_vz"
      }
    },
    {
      "cell_type": "markdown",
      "source": [
        "When programming, frequently we want to transform one type of data into another. As a simple example, consider the following code that computes square numbers:"
      ],
      "metadata": {
        "id": "phoCqUk_bTk9"
      }
    },
    {
      "cell_type": "code",
      "source": [
        "nums = [0, 1, 2, 3, 4]\n",
        "squares = []\n",
        "for x in nums:\n",
        "    squares.append(x ** 2)\n",
        "print(squares)"
      ],
      "metadata": {
        "id": "LAl5bGLAbNB8",
        "colab": {
          "base_uri": "https://localhost:8080/"
        },
        "outputId": "7891559d-c99f-4482-80fc-7be8f601a050"
      },
      "execution_count": 57,
      "outputs": [
        {
          "output_type": "stream",
          "name": "stdout",
          "text": [
            "[0, 1, 4, 9, 16]\n"
          ]
        }
      ]
    },
    {
      "cell_type": "markdown",
      "source": [
        "You can make this code simpler using a list comprehension:"
      ],
      "metadata": {
        "id": "tUjJeBrVbXk7"
      }
    },
    {
      "cell_type": "code",
      "source": [
        "# newList = [expression(element) for element in Oldlist if condition]\n",
        "nums = [0, 1, 2, 3, 4]\n",
        "squares = [x ** 2 for x in nums]\n",
        "print(squares)"
      ],
      "metadata": {
        "id": "6e0oNosibYWi",
        "colab": {
          "base_uri": "https://localhost:8080/"
        },
        "outputId": "cc9d2361-9832-4438-e288-07ca20edd3df"
      },
      "execution_count": 58,
      "outputs": [
        {
          "output_type": "stream",
          "name": "stdout",
          "text": [
            "[0, 1, 4, 9, 16]\n"
          ]
        }
      ]
    },
    {
      "cell_type": "code",
      "source": [
        "# Make a list of even square numbers using nums\n",
        "\n",
        "\n"
      ],
      "metadata": {
        "id": "DikC1mW_cQ0N"
      },
      "execution_count": 59,
      "outputs": []
    },
    {
      "cell_type": "code",
      "source": [
        "# Make a list of even numbers between 1 to 10 using list comprehension\n",
        "\n"
      ],
      "metadata": {
        "id": "gb6vVfJHbuUB"
      },
      "execution_count": 60,
      "outputs": []
    },
    {
      "cell_type": "markdown",
      "source": [
        "## **Sets**\n",
        "\n",
        "* Set is an unordered collection of unique items.\n",
        "* Duplicates are not allowed in sets. If a duplicate item is assigned, it is only inserted once.\n",
        "* A set can be created using curly braces `{ }`.\n",
        "* Sets items are not changeable, but the set itself can change. (i.e items can be added or removed)(Mutable)\n",
        "* Items in the set cannot be replaced or changed.\n",
        "\n",
        "* They are unindexed and so items cannot be accessed using index."
      ],
      "metadata": {
        "id": "ABDjlLEPRLMB"
      }
    },
    {
      "cell_type": "code",
      "source": [
        "mySet = {10, 15, \"v\", 2, 13, \"Hello\", 10, 2, \"v\"}\n",
        "print(mySet)"
      ],
      "metadata": {
        "id": "dfKiwkN8RO99",
        "colab": {
          "base_uri": "https://localhost:8080/"
        },
        "outputId": "875129c3-d73d-4018-80b6-7d7ddc032cdb"
      },
      "execution_count": 61,
      "outputs": [
        {
          "output_type": "stream",
          "name": "stdout",
          "text": [
            "{2, 'v', 10, 13, 'Hello', 15}\n"
          ]
        }
      ]
    },
    {
      "cell_type": "markdown",
      "source": [
        "### **Accessing Set Items**\n",
        "* You cannot access items in a set by referring to an index or key.\n",
        "But you can ask if a specified value is present in a set, by using the **in** keyword."
      ],
      "metadata": {
        "id": "Sn0NqP7oRUYj"
      }
    },
    {
      "cell_type": "code",
      "source": [
        "myLang = {\"C++\", \"Python\", \"Java\", \"Kotlin\"}\n",
        "if \"Javascript\" in myLang:\n",
        "    print(\"I know Javascript.\")\n",
        "else:\n",
        "    print(\"I do not know Javascript.\")"
      ],
      "metadata": {
        "id": "o_H9rqH7RaGm",
        "colab": {
          "base_uri": "https://localhost:8080/"
        },
        "outputId": "87e25242-fdff-4544-b9ce-1e0aa490448b"
      },
      "execution_count": 62,
      "outputs": [
        {
          "output_type": "stream",
          "name": "stdout",
          "text": [
            "I do not know Javascript.\n"
          ]
        }
      ]
    },
    {
      "cell_type": "markdown",
      "source": [
        "### **Adding Items**\n",
        "\n",
        "* Items can be added to a set using `add()` method."
      ],
      "metadata": {
        "id": "z_jsl8NdRfIQ"
      }
    },
    {
      "cell_type": "code",
      "source": [
        "mySet = {10, 20, 30}\n",
        "mySet.add(40)\n",
        "print(mySet)\n",
        "\n",
        "mySet.add(30)\n",
        "print(mySet)"
      ],
      "metadata": {
        "id": "tOV7Qdu6Rf3D",
        "colab": {
          "base_uri": "https://localhost:8080/"
        },
        "outputId": "d991435d-db36-45d2-9534-babf663b62c7"
      },
      "execution_count": 63,
      "outputs": [
        {
          "output_type": "stream",
          "name": "stdout",
          "text": [
            "{40, 10, 20, 30}\n",
            "{40, 10, 20, 30}\n"
          ]
        }
      ]
    },
    {
      "cell_type": "markdown",
      "source": [
        "* To add multiple items at once, we can use `update()` method. It takes any iterable as an arguement."
      ],
      "metadata": {
        "id": "liDEEzdnS1hv"
      }
    },
    {
      "cell_type": "code",
      "source": [
        "mySet = {\"A\", \"B\", \"C\"}\n",
        "ls = [\"C\", \"D\", \"E\"]\n",
        "\n",
        "mySet.update(ls)\n",
        "print(mySet)"
      ],
      "metadata": {
        "id": "lDKmL_kjS2T7",
        "colab": {
          "base_uri": "https://localhost:8080/"
        },
        "outputId": "212c3af0-9071-497b-8f6e-e29127b2fc1d"
      },
      "execution_count": 64,
      "outputs": [
        {
          "output_type": "stream",
          "name": "stdout",
          "text": [
            "{'E', 'C', 'D', 'A', 'B'}\n"
          ]
        }
      ]
    },
    {
      "cell_type": "markdown",
      "source": [
        "### **Removing Items**\n",
        "\n",
        "* To remove an item from set, we can use `discard()` or `remove()` method.\n",
        "* Both function similarly with the only difference being that if item does not exist in the set, `remove()` will generate an error whereas `discard()` will NOT generate an error."
      ],
      "metadata": {
        "id": "p6snqvqVTwHf"
      }
    },
    {
      "cell_type": "code",
      "source": [
        "mySet = {10, 20, 'A', 'B'}\n",
        "mySet.remove(10)\n",
        "mySet.remove(20)         # Element does not exist.\n",
        "print(mySet)"
      ],
      "metadata": {
        "id": "SmCyYN3HTyWC",
        "colab": {
          "base_uri": "https://localhost:8080/"
        },
        "outputId": "5488dab5-2098-4eea-ed0f-849e186a3ca3"
      },
      "execution_count": 65,
      "outputs": [
        {
          "output_type": "stream",
          "name": "stdout",
          "text": [
            "{'A', 'B'}\n"
          ]
        }
      ]
    },
    {
      "cell_type": "code",
      "source": [
        "mySet = {10, 20, 'A', 'B'}\n",
        "mySet.discard(10)\n",
        "mySet.discard(20)        # Element does not exist.\n",
        "print(mySet)"
      ],
      "metadata": {
        "id": "HMS1II6UT12Z",
        "colab": {
          "base_uri": "https://localhost:8080/"
        },
        "outputId": "5146be7f-2406-4233-99ed-af3f874ca5d6"
      },
      "execution_count": 66,
      "outputs": [
        {
          "output_type": "stream",
          "name": "stdout",
          "text": [
            "{'A', 'B'}\n"
          ]
        }
      ]
    },
    {
      "cell_type": "markdown",
      "source": [
        "### **Set Operations**\n",
        "\n",
        "* The `union()` method is used to perform union of two sets.\n",
        "* The `intersection()` method is used to perform intersection of two sets."
      ],
      "metadata": {
        "id": "oEEhVGrNUL7H"
      }
    },
    {
      "cell_type": "code",
      "source": [
        "A = {10, 20, 30}\n",
        "B = {20, 40, 50, 60}\n",
        "\n",
        "AuB = A.union(B)          # A new set is returned.\n",
        "print(AuB)\n",
        "AiB = A.intersection(B)         # A new set is returned.\n",
        "print(AiB)"
      ],
      "metadata": {
        "colab": {
          "base_uri": "https://localhost:8080/"
        },
        "id": "asVJzE_dUUtq",
        "outputId": "f23becd9-60ec-4cfa-f758-ad26ef9d1a02"
      },
      "execution_count": 67,
      "outputs": [
        {
          "output_type": "stream",
          "name": "stdout",
          "text": [
            "{50, 20, 40, 10, 60, 30}\n",
            "{20}\n"
          ]
        }
      ]
    },
    {
      "cell_type": "markdown",
      "source": [
        "* Many other operations like difference and symmetric difference can also be performed using set methods. Check reference : https://www.w3schools.com/python/python_sets_methods.asp"
      ],
      "metadata": {
        "id": "Wll3GUnGUedo"
      }
    },
    {
      "cell_type": "markdown",
      "source": [
        "When programming, frequently we want to transform one type of data into another. As a simple example, consider the following code that computes square numbers:"
      ],
      "metadata": {
        "id": "kqAva3f_eopa"
      }
    },
    {
      "cell_type": "markdown",
      "source": [
        "## **Dictionaries**\n",
        "\n",
        "* Dictionaries are used to store `key : value` pairs in python. It is an implementation of hash tables.\n",
        "* Item values can be accessed using the `key` for the required item.\n",
        "* Dictionaries are mutable, i.e we can add or remove items after the dictionary has been created.\n",
        "* Dictionaries require a unique `key` for every item. No two items can have the same `key`.\n"
      ],
      "metadata": {
        "id": "H_FILFVqyku5"
      }
    },
    {
      "cell_type": "code",
      "source": [
        "myDict = {\n",
        "    \"Student ID\" : 202103017,         # keys and values can be of any data type\n",
        "    \"Name\" : \"Dhruv\",\n",
        "    \"College\" : \"DAIICT\",\n",
        "    \"Graduation Year\" : 2025,\n",
        "    \"Years of Study\" : [2021, 2022, 2023, 2024],\n",
        "}\n",
        "print(myDict)\n",
        "print(myDict[\"Name\"])"
      ],
      "metadata": {
        "id": "QWSA327Fy5Di",
        "colab": {
          "base_uri": "https://localhost:8080/"
        },
        "outputId": "64b850d0-ab7c-4b45-fad7-cbe715e29f80"
      },
      "execution_count": 68,
      "outputs": [
        {
          "output_type": "stream",
          "name": "stdout",
          "text": [
            "{'Student ID': 202103017, 'Name': 'Dhruv', 'College': 'DAIICT', 'Graduation Year': 2025, 'Years of Study': [2021, 2022, 2023, 2024]}\n",
            "Dhruv\n"
          ]
        }
      ]
    },
    {
      "cell_type": "markdown",
      "source": [
        "### **Accessing Dictionary Items**\n",
        "\n",
        "* As shown above, dictionary `values` can be accessed by using their corresponding `keys` as index.\n",
        "* This can also be done using the `get()` method. This will prevent an error incase key does not exist."
      ],
      "metadata": {
        "id": "hRlbGLpQzS7M"
      }
    },
    {
      "cell_type": "code",
      "source": [
        "gradeDict = {'A' : 5, 'B': 4, 'C' : 3, 'D' : 2, 'E' : 1, 'F' : 0}\n",
        "\n",
        "print(gradeDict['A'])\n",
        "print(gradeDict.get('B'))\n",
        "print(gradeDict.get('X'))"
      ],
      "metadata": {
        "id": "_fnEr1MPzT6G",
        "colab": {
          "base_uri": "https://localhost:8080/"
        },
        "outputId": "7eaea0d8-ccea-4189-8d43-36a4ff64135a"
      },
      "execution_count": 69,
      "outputs": [
        {
          "output_type": "stream",
          "name": "stdout",
          "text": [
            "5\n",
            "4\n",
            "None\n"
          ]
        }
      ]
    },
    {
      "cell_type": "markdown",
      "source": [
        "### **Adding and Updating Items**\n",
        "\n",
        "* Existing items can be updated easily by accessing them using their corresponding `key`."
      ],
      "metadata": {
        "id": "3G4-0_qXz9ay"
      }
    },
    {
      "cell_type": "code",
      "source": [
        "phone = {\n",
        "    'Company' : 'Samsung',\n",
        "    'Model' : 'S21',\n",
        "    'Android Version' : 11\n",
        "}\n",
        "\n",
        "phone['Android Version'] = 12\n",
        "print(phone)"
      ],
      "metadata": {
        "id": "cIfIKC1Fz-J9",
        "colab": {
          "base_uri": "https://localhost:8080/"
        },
        "outputId": "a8e7fada-0f21-49b2-c4f0-470d7de7e708"
      },
      "execution_count": 70,
      "outputs": [
        {
          "output_type": "stream",
          "name": "stdout",
          "text": [
            "{'Company': 'Samsung', 'Model': 'S21', 'Android Version': 12}\n"
          ]
        }
      ]
    },
    {
      "cell_type": "markdown",
      "source": [
        "* If we assign a `value` to a `key` which does not exist, a new `key : value` pair will be added to the dictionary."
      ],
      "metadata": {
        "id": "Ti_idnhE0Ijv"
      }
    },
    {
      "cell_type": "code",
      "source": [
        "phone = {\n",
        "    'Company' : 'Samsung',\n",
        "    'Model' : 'S21',\n",
        "    'Android Version' : 11\n",
        "}\n",
        "phone['OneUI'] = 4.1\n",
        "print(phone)"
      ],
      "metadata": {
        "id": "Y0jwj4k80K4B",
        "colab": {
          "base_uri": "https://localhost:8080/"
        },
        "outputId": "a5605e31-afd6-450d-b579-7318475ef3d9"
      },
      "execution_count": 71,
      "outputs": [
        {
          "output_type": "stream",
          "name": "stdout",
          "text": [
            "{'Company': 'Samsung', 'Model': 'S21', 'Android Version': 11, 'OneUI': 4.1}\n"
          ]
        }
      ]
    },
    {
      "cell_type": "markdown",
      "source": [
        "* To add new or update multiple items at once, we can use the `update()` method of dictionaries.\n",
        "* `update()` method takes a dictionary as input which will be merged with the calling dictionary."
      ],
      "metadata": {
        "id": "UdbD4kHz0OIJ"
      }
    },
    {
      "cell_type": "code",
      "source": [
        "phone = {\n",
        "    'Company' : 'Samsung',\n",
        "    'Model' : 'S21',\n",
        "    'Android Version' : 11\n",
        "}\n",
        "phone.update({'Model':'S22', 'Android Version':12, 'Color': 'Black'})\n",
        "print(phone)"
      ],
      "metadata": {
        "id": "3Tvdr8cd0hjO",
        "colab": {
          "base_uri": "https://localhost:8080/"
        },
        "outputId": "88f0ad79-bfd1-4a1e-8080-805b228129d2"
      },
      "execution_count": 72,
      "outputs": [
        {
          "output_type": "stream",
          "name": "stdout",
          "text": [
            "{'Company': 'Samsung', 'Model': 'S22', 'Android Version': 12, 'Color': 'Black'}\n"
          ]
        }
      ]
    },
    {
      "cell_type": "markdown",
      "source": [
        "### **Remove Items**\n",
        "\n",
        "* To remove an item, we can use the `pop()` method. It takes item `key` as input parameter."
      ],
      "metadata": {
        "id": "T-Vo2GF-0r6_"
      }
    },
    {
      "cell_type": "code",
      "source": [
        "phone = {\n",
        "    'Company' : 'Samsung',\n",
        "    'Model' : 'S21',\n",
        "    'Android Version' : 12,\n",
        "    'Color' : 'Black'\n",
        "}\n",
        "phone.pop('Color')\n",
        "print(phone)"
      ],
      "metadata": {
        "id": "-fb6vokN0skm",
        "colab": {
          "base_uri": "https://localhost:8080/"
        },
        "outputId": "41fbc831-dde2-4601-db98-6b9cc93165ae"
      },
      "execution_count": 73,
      "outputs": [
        {
          "output_type": "stream",
          "name": "stdout",
          "text": [
            "{'Company': 'Samsung', 'Model': 'S21', 'Android Version': 12}\n"
          ]
        }
      ]
    },
    {
      "cell_type": "markdown",
      "source": [
        "* The `popitem()` method removes the last inserted item from the dictionary.\n",
        "\n",
        "* Note that dictionaries are unordered in versions before 3.7. In older versions, this method removes a random item."
      ],
      "metadata": {
        "id": "y-Z907Qw0zMG"
      }
    },
    {
      "cell_type": "code",
      "source": [
        "phone = {\n",
        "    'Company' : 'Samsung',\n",
        "    'Model' : 'S21',\n",
        "    'Android Version' : 12,\n",
        "}\n",
        "phone.popitem()\n",
        "print(phone)"
      ],
      "metadata": {
        "id": "cJ4cmoSf0218",
        "colab": {
          "base_uri": "https://localhost:8080/"
        },
        "outputId": "75dd9e44-7ea0-4b57-a123-eac6ff84950b"
      },
      "execution_count": 74,
      "outputs": [
        {
          "output_type": "stream",
          "name": "stdout",
          "text": [
            "{'Company': 'Samsung', 'Model': 'S21'}\n"
          ]
        }
      ]
    },
    {
      "cell_type": "markdown",
      "source": [
        "### **Items, Keys & Values**\n",
        "\n",
        "While using python dictionaries you will work with these three terms.\n",
        "1. ***items*** : Items refer to a `key:value` pair. It is stored in the form of a tuple.\n",
        "2. ***keys*** : Keys refer to the user made indices which are used to access items.\n",
        "3. ***values*** : Values refere to the *data* which can be accessed using its corresponding key."
      ],
      "metadata": {
        "id": "aWlx0MJb0_XF"
      }
    },
    {
      "cell_type": "markdown",
      "source": [
        "We can view all items, keys and values using the methods `items()`, `keys()`\n",
        "\n",
        "and `values()` respectively."
      ],
      "metadata": {
        "id": "3-8VrSO71CgL"
      }
    },
    {
      "cell_type": "code",
      "source": [
        "phone = {\n",
        "    'Company' : 'Samsung',\n",
        "    'Model' : 'S21',\n",
        "    'Android Version' : 12,\n",
        "}\n",
        "\n",
        "print(phone.items(), type(phone.items()))\n",
        "print(phone.keys(), type(phone.keys()))\n",
        "print(phone.values(), type(phone.values()))"
      ],
      "metadata": {
        "id": "m14nlTkd1E_z",
        "colab": {
          "base_uri": "https://localhost:8080/"
        },
        "outputId": "14843cc8-ed7d-4aa4-b04e-5c84db7ca2c2"
      },
      "execution_count": 75,
      "outputs": [
        {
          "output_type": "stream",
          "name": "stdout",
          "text": [
            "dict_items([('Company', 'Samsung'), ('Model', 'S21'), ('Android Version', 12)]) <class 'dict_items'>\n",
            "dict_keys(['Company', 'Model', 'Android Version']) <class 'dict_keys'>\n",
            "dict_values(['Samsung', 'S21', 12]) <class 'dict_values'>\n"
          ]
        }
      ]
    },
    {
      "cell_type": "markdown",
      "source": [
        "> Python dictionaries also support many other methods. Check reference: https://www.w3schools.com/python/python_dictionaries_methods.asp"
      ],
      "metadata": {
        "id": "aJdv51gF2DIu"
      }
    },
    {
      "cell_type": "markdown",
      "metadata": {
        "id": "mkQdG8OH-S0V"
      },
      "source": [
        "## **Tuples**\n",
        "\n",
        "* Tuples are used to store multiple items in a single variable.\n",
        "* Tuples are created using `( )` and are immutable (unchangeable)\n",
        "* Similar to lists, tuples are 0-indexed."
      ]
    },
    {
      "cell_type": "code",
      "execution_count": 76,
      "metadata": {
        "colab": {
          "base_uri": "https://localhost:8080/"
        },
        "id": "kdLjutQfA_LB",
        "outputId": "b6ffe2ef-11ae-46f1-90b7-d82433a99b00"
      },
      "outputs": [
        {
          "output_type": "stream",
          "name": "stdout",
          "text": [
            "('Zero', 'One', 'Two', 'Three')\n"
          ]
        }
      ],
      "source": [
        "myTuple = (\"Zero\", \"One\", \"Two\", \"Three\")\n",
        "print(myTuple)\n"
      ]
    },
    {
      "cell_type": "code",
      "source": [
        "# myTuple[0] = \"Zero\""
      ],
      "metadata": {
        "id": "siJhmgldXKPc"
      },
      "execution_count": 77,
      "outputs": []
    },
    {
      "cell_type": "code",
      "execution_count": 78,
      "metadata": {
        "colab": {
          "base_uri": "https://localhost:8080/"
        },
        "id": "m7d7heirB4Rj",
        "outputId": "35c03338-52f0-4608-9a58-79d4ba0d0aea"
      },
      "outputs": [
        {
          "output_type": "stream",
          "name": "stdout",
          "text": [
            "<class 'int'> <class 'str'> <class 'float'>\n"
          ]
        }
      ],
      "source": [
        "# A tuple can also have different data type values\n",
        "diffTup = (0, \"One\", 2.0)\n",
        "print(type(diffTup[0]), type(diffTup[1]), type(diffTup[2]))"
      ]
    },
    {
      "cell_type": "markdown",
      "metadata": {
        "id": "Mu1pbIY5CgG4"
      },
      "source": [
        "* As tuples are unchangeable, we cannot add or remove elements from a tuple.\n",
        "But there is a workaround for this. We can convert the tuple into a list, add/remove your item, and then convert it back into a tuple."
      ]
    },
    {
      "cell_type": "code",
      "source": [
        "thistuple=(\"apple\",\"banana\",\"cherry\")\n",
        "y=list(thistuple)\n",
        "y.append(\"orange\")\n",
        "thistuple=tuple(y)"
      ],
      "metadata": {
        "id": "8xLYoTkxVOko"
      },
      "execution_count": 79,
      "outputs": []
    },
    {
      "cell_type": "markdown",
      "metadata": {
        "id": "Aiy0jSt7CeDY"
      },
      "source": [
        "### **Unpacking tuples**\n",
        "\n",
        "* As we discussed tuples are used to store multiple items in a single variable. Now, unpacking a tuple means creating a separate variable for every item in a tuple."
      ]
    },
    {
      "cell_type": "code",
      "execution_count": 80,
      "metadata": {
        "colab": {
          "base_uri": "https://localhost:8080/"
        },
        "id": "TtSocFXaC9OP",
        "outputId": "82e40b76-d462-4cbf-84d6-c27c88d8ea30"
      },
      "outputs": [
        {
          "output_type": "stream",
          "name": "stdout",
          "text": [
            "Zero\n",
            "One\n",
            "Two\n"
          ]
        }
      ],
      "source": [
        "myTuple = (\"Zero\", \"One\", \"Two\")\n",
        "z, o, t = myTuple\n",
        "print(z, o, t, sep='\\n')"
      ]
    },
    {
      "cell_type": "markdown",
      "metadata": {
        "id": "GBDl-eJYEBr1"
      },
      "source": [
        "* If number of variables created are not equal to the number of items in the tuple, we will face an error. To resolve this error, use `*` before a variable name to assign all remaining items to that variable as a list."
      ]
    },
    {
      "cell_type": "code",
      "execution_count": 81,
      "metadata": {
        "colab": {
          "base_uri": "https://localhost:8080/"
        },
        "id": "p7kv5X95D0KW",
        "outputId": "f9c08e58-fa9b-4a6c-9ded-0725d5a09e2c"
      },
      "outputs": [
        {
          "output_type": "stream",
          "name": "stdout",
          "text": [
            "['Zero', 'One'] Two\n"
          ]
        }
      ],
      "source": [
        "myTuple = (\"Zero\", \"One\", \"Two\")\n",
        "*z, o = myTuple      # Use *\n",
        "print(z,o)"
      ]
    },
    {
      "cell_type": "markdown",
      "source": [
        "A tuple is in many ways similar to a list; one of the most important differences is that tuples can be used as keys in dictionaries and as elements of sets, while lists cannot. Here is a trivial example:"
      ],
      "metadata": {
        "id": "_JIFFLMrXrH8"
      }
    },
    {
      "cell_type": "code",
      "source": [
        "d = {(x, x + 1): x for x in range(10)}  # Create a dictionary with tuple keys\n",
        "t = (5, 6)       # Create a tuple\n",
        "print(d)\n",
        "print(type(t))\n"
      ],
      "metadata": {
        "colab": {
          "base_uri": "https://localhost:8080/"
        },
        "id": "U2DE8SD9X2um",
        "outputId": "95426ef9-1662-4758-e7b2-73ab485a93a7"
      },
      "execution_count": 82,
      "outputs": [
        {
          "output_type": "stream",
          "name": "stdout",
          "text": [
            "{(0, 1): 0, (1, 2): 1, (2, 3): 2, (3, 4): 3, (4, 5): 4, (5, 6): 5, (6, 7): 6, (7, 8): 7, (8, 9): 8, (9, 10): 9}\n",
            "<class 'tuple'>\n"
          ]
        }
      ]
    },
    {
      "cell_type": "code",
      "source": [
        "print(d[t])\n",
        "print(d[(1, 2)])"
      ],
      "metadata": {
        "colab": {
          "base_uri": "https://localhost:8080/"
        },
        "id": "Gok6ou7yYITR",
        "outputId": "e07544c4-4f76-403b-d066-692582510b23"
      },
      "execution_count": 83,
      "outputs": [
        {
          "output_type": "stream",
          "name": "stdout",
          "text": [
            "5\n",
            "1\n"
          ]
        }
      ]
    },
    {
      "cell_type": "markdown",
      "metadata": {
        "id": "qtTrYTOfFSbZ"
      },
      "source": [
        "# **Functions in Python**\n",
        "\n",
        "* Functions in python can be declared using the `def` keyword.\n",
        "* `def` is followed by function name and arguements within `( )`."
      ]
    },
    {
      "cell_type": "code",
      "execution_count": 84,
      "metadata": {
        "id": "g2OlAuFPFmBI",
        "colab": {
          "base_uri": "https://localhost:8080/"
        },
        "outputId": "acf94edd-15f4-44b2-c4c3-969000b2a592"
      },
      "outputs": [
        {
          "output_type": "stream",
          "name": "stdout",
          "text": [
            "Welcome Dhruv\n"
          ]
        }
      ],
      "source": [
        "def myFunction(username):\n",
        "    print(\"Welcome\", username)\n",
        "\n",
        "myFunction(\"Dhruv\")"
      ]
    },
    {
      "cell_type": "code",
      "execution_count": 85,
      "metadata": {
        "id": "7xo6HvxuGyfC",
        "colab": {
          "base_uri": "https://localhost:8080/"
        },
        "outputId": "d9934f9d-0f32-4763-a4d6-0c404f31c434"
      },
      "outputs": [
        {
          "output_type": "stream",
          "name": "stdout",
          "text": [
            "Username: Dhruv\n",
            "Email ID: dhruv@mail.com\n"
          ]
        }
      ],
      "source": [
        "# Multiple Arguements\n",
        "def myFunc(username, email):\n",
        "    print(\"Username:\", username)\n",
        "    print(\"Email ID:\", email)\n",
        "\n",
        "myFunc(\"Dhruv\", \"dhruv@mail.com\")"
      ]
    },
    {
      "cell_type": "markdown",
      "metadata": {
        "id": "Mr-AFW4lGLzl"
      },
      "source": [
        "* For multiple parameters, arguements can also be sent in the form of `key = value` synatax."
      ]
    },
    {
      "cell_type": "code",
      "execution_count": 86,
      "metadata": {
        "id": "UCbiWPYuHKwM",
        "colab": {
          "base_uri": "https://localhost:8080/"
        },
        "outputId": "0121151c-f2be-43a0-cdbe-5f6635db2ea9"
      },
      "outputs": [
        {
          "output_type": "stream",
          "name": "stdout",
          "text": [
            "Username: Dhruv\n",
            "Email ID: dhruv@mail.com\n"
          ]
        }
      ],
      "source": [
        "def myFunc(username, email):\n",
        "    print(\"Username:\", username)\n",
        "    print(\"Email ID:\", email)\n",
        "\n",
        "myFunc(email=\"dhruv@mail.com\", username=\"Dhruv\")"
      ]
    },
    {
      "cell_type": "markdown",
      "source": [
        "# Classes in Python"
      ],
      "metadata": {
        "id": "CFJIy_otSScQ"
      }
    },
    {
      "cell_type": "code",
      "source": [
        "# The Syntax for defining the classes is pretty straightforward.\n",
        "\n",
        "class Greeter:\n",
        "    # Constructor\n",
        "    def __init__(self, name):\n",
        "        self.name = name  # Create an instance variable\n",
        "\n",
        "    # Instance method\n",
        "    def greet(self, loud=False):\n",
        "        if loud:\n",
        "          print('HELLO, {}'.format(self.name.upper()))\n",
        "        else:\n",
        "          print('Hello, {}!'.format(self.name))\n",
        "\n",
        "g = Greeter('Fred')  # Construct an instance of the Greeter class\n",
        "g.greet()            # Call an instance method; prints \"Hello, Fred\"\n",
        "g.greet(loud=True)   # Call an instance method; prints \"HELLO, FRED!\""
      ],
      "metadata": {
        "id": "E1ff14yPSZvD",
        "colab": {
          "base_uri": "https://localhost:8080/"
        },
        "outputId": "0a1078fb-b002-45bc-b176-20b22caa1bee"
      },
      "execution_count": 87,
      "outputs": [
        {
          "output_type": "stream",
          "name": "stdout",
          "text": [
            "Hello, Fred!\n",
            "HELLO, FRED\n"
          ]
        }
      ]
    },
    {
      "cell_type": "markdown",
      "source": [
        "## Coding Problem - 3"
      ],
      "metadata": {
        "id": "f_Sc6GbwT9WY"
      }
    },
    {
      "cell_type": "code",
      "source": [
        "# Create a function that checks if a given string is a palindrome.\n",
        "# Your Code here.\n",
        "\n",
        "def palindrome(a):\n",
        "  b=a.isalpha()\n",
        "  if b==True and a[::-1]==a:\n",
        "    return \"palindrome\"\n",
        "  else:\n",
        "    return \"not palindrome\"\n",
        "\n",
        "palindrome(input(\"Enter a string:\"))"
      ],
      "metadata": {
        "id": "12ZKlprzT7as",
        "colab": {
          "base_uri": "https://localhost:8080/",
          "height": 53
        },
        "outputId": "d19ae026-3dd8-4780-bc77-b5623611303d"
      },
      "execution_count": 88,
      "outputs": [
        {
          "name": "stdout",
          "output_type": "stream",
          "text": [
            "Enter a string:jasmin\n"
          ]
        },
        {
          "output_type": "execute_result",
          "data": {
            "text/plain": [
              "'not palindrome'"
            ],
            "application/vnd.google.colaboratory.intrinsic+json": {
              "type": "string"
            }
          },
          "metadata": {},
          "execution_count": 88
        }
      ]
    },
    {
      "cell_type": "code",
      "source": [
        "# Create a program that removes duplicate elements from a list.\n",
        "# Your Code here.\n",
        "\n",
        "def remove_duplicates_preserve_order(input_list):\n",
        "    seen = set()\n",
        "    output_list = []\n",
        "    for item in input_list:\n",
        "        if item not in seen:\n",
        "            output_list.append(item)\n",
        "            seen.add(item)\n",
        "    return output_list\n",
        "\n",
        "# Test the function\n",
        "original_list = [1, 2, 2, 3, 4, 4, 5, 6, 6, 7]\n",
        "print(\"Original list:\", original_list)\n",
        "print(\"List after removing duplicates, preserving order:\", remove_duplicates_preserve_order(original_list))\n"
      ],
      "metadata": {
        "id": "nazCXqINUGxi",
        "colab": {
          "base_uri": "https://localhost:8080/"
        },
        "outputId": "869febf7-2fa8-4c9f-ccc9-bbf4196f75c7"
      },
      "execution_count": 89,
      "outputs": [
        {
          "output_type": "stream",
          "name": "stdout",
          "text": [
            "Original list: [1, 2, 2, 3, 4, 4, 5, 6, 6, 7]\n",
            "List after removing duplicates, preserving order: [1, 2, 3, 4, 5, 6, 7]\n"
          ]
        }
      ]
    },
    {
      "cell_type": "code",
      "source": [
        "# Write a class representing a simple bank account with methods to deposit, withdraw, and check balance.\n",
        "# Your Code here.\n",
        "\n",
        "user = input(\"Enter a name: \")\n",
        "total = int(input(\"Enter your last transaction amount: \"))\n",
        "\n",
        "a = \"Check balance\"\n",
        "b = \"Deposit amount\"\n",
        "c = \"Withdraw amount\"\n",
        "d = \"Quit app\"\n",
        "\n",
        "print(\"Options:\")\n",
        "print(\"a:\", a)\n",
        "print(\"b:\", b)\n",
        "print(\"c:\", c)\n",
        "print(\"d:\", d)\n",
        "\n",
        "while True:\n",
        "    select = input(\"Please select an option (a/b/c/d): \")\n",
        "    if select == \"a\":\n",
        "        print(\"Total balance is:\", total)\n",
        "\n",
        "    elif select == \"b\":\n",
        "        deposit = int(input(\"Enter the amount you would like to deposit: \"))\n",
        "        total += deposit\n",
        "        print(\"Total balance is:\", total)\n",
        "\n",
        "    elif select == \"c\":\n",
        "        withdraw = int(input(\"Enter the amount you would like to withdraw: \"))\n",
        "        if withdraw <= total:\n",
        "            total -= withdraw\n",
        "            print(\"Total balance is:\", total)\n",
        "        else:\n",
        "            print(\"Insufficient funds in account\")\n",
        "\n",
        "    elif select == \"d\":\n",
        "        print(\"Exiting the app. Thank You!\")\n",
        "        break\n",
        "\n",
        "    else:\n",
        "        print(\"Invalid option. Please select again.\")\n"
      ],
      "metadata": {
        "id": "Fv3O7TwG09Jm",
        "colab": {
          "base_uri": "https://localhost:8080/"
        },
        "outputId": "f27452d5-d19f-49dd-d56f-33f8f2c6253e"
      },
      "execution_count": 90,
      "outputs": [
        {
          "output_type": "stream",
          "name": "stdout",
          "text": [
            "Enter a name: Jasmin\n",
            "Enter your last transaction amount: 10000\n",
            "Options:\n",
            "a: Check balance\n",
            "b: Deposit amount\n",
            "c: Withdraw amount\n",
            "d: Quit app\n",
            "Please select an option (a/b/c/d): a\n",
            "Total balance is: 10000\n",
            "Please select an option (a/b/c/d): b\n",
            "Enter the amount you would like to deposit: 20000\n",
            "Total balance is: 30000\n",
            "Please select an option (a/b/c/d): d\n",
            "Exiting the app. Thank You!\n"
          ]
        }
      ]
    },
    {
      "cell_type": "markdown",
      "source": [
        "# **Python pip**\n",
        "\n",
        "\n",
        "* Python supports a lot of third-party packages which can be easily installed using pip.\n",
        "* **pip** is a package installer for python.\n",
        "* Note that pip is not a python function. It is a command line tool which is used to manage packages in python."
      ],
      "metadata": {
        "id": "h0jlV69h2bu0"
      }
    },
    {
      "cell_type": "markdown",
      "source": [
        "## **Installing a package**\n",
        "\n",
        "* If you have python installed on your local machine, you can try using pip on your command prompt."
      ],
      "metadata": {
        "id": "BMz2JXtW2mxl"
      }
    },
    {
      "cell_type": "code",
      "source": [
        "pip install numpy"
      ],
      "metadata": {
        "id": "f7x5ltLk2p2u",
        "colab": {
          "base_uri": "https://localhost:8080/"
        },
        "outputId": "66b654a6-dc96-4431-b014-26328284ec01"
      },
      "execution_count": 91,
      "outputs": [
        {
          "output_type": "stream",
          "name": "stdout",
          "text": [
            "Requirement already satisfied: numpy in /usr/local/lib/python3.10/dist-packages (1.25.2)\n"
          ]
        }
      ]
    },
    {
      "cell_type": "markdown",
      "source": [
        "* You can find numerous useful python packages at https://pypi.org/"
      ],
      "metadata": {
        "id": "IJoKkPbO28OK"
      }
    },
    {
      "cell_type": "markdown",
      "source": [
        "## **Using a package**\n",
        "\n",
        "* To use a package in python, we need to first import it to our code using the `import` and `from` keyword.\n",
        "\n"
      ],
      "metadata": {
        "id": "KDsSepf63E1O"
      }
    },
    {
      "cell_type": "code",
      "source": [
        "from math import sqrt\n",
        "x=3\n",
        "y=4\n",
        "z=sqrt(x**2+y**2)\n",
        "print(z)"
      ],
      "metadata": {
        "id": "h4jIJQ2y3IcO",
        "colab": {
          "base_uri": "https://localhost:8080/"
        },
        "outputId": "64ba501a-d9b3-4924-86d2-bbccf9338825"
      },
      "execution_count": 92,
      "outputs": [
        {
          "output_type": "stream",
          "name": "stdout",
          "text": [
            "5.0\n"
          ]
        }
      ]
    },
    {
      "cell_type": "markdown",
      "source": [
        "# Numpy"
      ],
      "metadata": {
        "id": "rzCLwoiqUxaC"
      }
    },
    {
      "cell_type": "markdown",
      "source": [
        "Numpy is the core library for scientific computing in Python. It provides a high-performance multidimensional array object, and tools for working with these arrays."
      ],
      "metadata": {
        "id": "Vb_omzkGU68c"
      }
    },
    {
      "cell_type": "markdown",
      "source": [
        "# **Extending Python Using NumPy**\n",
        "\n",
        "* Due to the way that a Python list is implemented, accessing items in a large list is computationally expensive.\n",
        "\n",
        "*   The main problem with the list is that, to allow a list to have non-uniform data types, each item in the list is stored in a memory location, with the list containing an \"array\" of pointers to each of these locations.   \n",
        "*  In NumPy, an array is of type `ndarray` (n-dimensional array), and all the elements must be of the same type.\n",
        "\n"
      ],
      "metadata": {
        "id": "P2Z-oQ9F3oDk"
      }
    },
    {
      "cell_type": "markdown",
      "source": [
        "# Creating NumPy Arrays"
      ],
      "metadata": {
        "id": "sBJjFOK_DJ1u"
      }
    },
    {
      "cell_type": "code",
      "source": [
        "import numpy as np\n",
        "arr=np.array([1,2,3,4,5])\n",
        "print(arr)\n",
        "a1=np.arange(10) #Created a range from 0 to 9\n",
        "print(a1)\n",
        "print(a1.shape)"
      ],
      "metadata": {
        "id": "J7WQXKVRDjnm",
        "colab": {
          "base_uri": "https://localhost:8080/"
        },
        "outputId": "8c75635c-9737-4294-a444-cf3356b68427"
      },
      "execution_count": 93,
      "outputs": [
        {
          "output_type": "stream",
          "name": "stdout",
          "text": [
            "[1 2 3 4 5]\n",
            "[0 1 2 3 4 5 6 7 8 9]\n",
            "(10,)\n"
          ]
        }
      ]
    },
    {
      "cell_type": "markdown",
      "source": [
        "* To create an array of a specific size filled with 0's, we use the zeros() function."
      ],
      "metadata": {
        "id": "K6SLxaxQD_-8"
      }
    },
    {
      "cell_type": "code",
      "source": [
        "a2= np.zeros(5) # Creates an array with all 0's\n",
        "print(a2)\n",
        "print(a2.shape)"
      ],
      "metadata": {
        "id": "FYqsyOkkELrw",
        "colab": {
          "base_uri": "https://localhost:8080/"
        },
        "outputId": "1d2f68ab-b45c-4317-d937-4a09907abe02"
      },
      "execution_count": 94,
      "outputs": [
        {
          "output_type": "stream",
          "name": "stdout",
          "text": [
            "[0. 0. 0. 0. 0.]\n",
            "(5,)\n"
          ]
        }
      ]
    },
    {
      "cell_type": "markdown",
      "source": [
        "* We can also create two-dimensional arrays using the zeros() function"
      ],
      "metadata": {
        "id": "jLOxpHcmEvHd"
      }
    },
    {
      "cell_type": "code",
      "source": [
        "a3=np.zeros((2,3)) #Array with 2 rows and 3 columns; This array has all zeros.\n",
        "print(a3.shape)\n",
        "print(a3)"
      ],
      "metadata": {
        "id": "AUPbYnQ4E374",
        "colab": {
          "base_uri": "https://localhost:8080/"
        },
        "outputId": "41d1e1f8-8483-4101-8755-64e5fd80350c"
      },
      "execution_count": 95,
      "outputs": [
        {
          "output_type": "stream",
          "name": "stdout",
          "text": [
            "(2, 3)\n",
            "[[0. 0. 0.]\n",
            " [0. 0. 0.]]\n"
          ]
        }
      ]
    },
    {
      "cell_type": "markdown",
      "source": [
        "* If we want an array filled with a specific number instead of 0, use the `full()` function"
      ],
      "metadata": {
        "id": "B8vIoVPPFhrJ"
      }
    },
    {
      "cell_type": "code",
      "source": [
        "a4= np.full((3,3),8)\n",
        "print(a4)"
      ],
      "metadata": {
        "id": "fAJOoHnJFwUT",
        "colab": {
          "base_uri": "https://localhost:8080/"
        },
        "outputId": "76eefcfc-680b-4bdb-e183-1d5f7e8a43f8"
      },
      "execution_count": 96,
      "outputs": [
        {
          "output_type": "stream",
          "name": "stdout",
          "text": [
            "[[8 8 8]\n",
            " [8 8 8]\n",
            " [8 8 8]]\n"
          ]
        }
      ]
    },
    {
      "cell_type": "markdown",
      "source": [
        "* The `eye()` function returns a 2-D array with ones on the diagonal and zeros elsewhere. For eg."
      ],
      "metadata": {
        "id": "bePy-K6mF-hK"
      }
    },
    {
      "cell_type": "code",
      "source": [
        "a5= np.eye(4) # 4x4 identity matrix\n",
        "print(a5)"
      ],
      "metadata": {
        "id": "77xXEK-nGKun",
        "colab": {
          "base_uri": "https://localhost:8080/"
        },
        "outputId": "5de16377-f833-4ddb-e1bd-de2a1d28e399"
      },
      "execution_count": 97,
      "outputs": [
        {
          "output_type": "stream",
          "name": "stdout",
          "text": [
            "[[1. 0. 0. 0.]\n",
            " [0. 1. 0. 0.]\n",
            " [0. 0. 1. 0.]\n",
            " [0. 0. 0. 1.]]\n"
          ]
        }
      ]
    },
    {
      "cell_type": "markdown",
      "source": [
        "* To create an array filled with random numbers, we can use the `random()` function from the `numpy.random` module."
      ],
      "metadata": {
        "id": "76zL4MwkGbvv"
      }
    },
    {
      "cell_type": "code",
      "source": [
        "a6= np.random.random((2,4)) # A 2x4 Array with random values.\n",
        "print(a6)"
      ],
      "metadata": {
        "id": "AtF-SzBeGq--",
        "colab": {
          "base_uri": "https://localhost:8080/"
        },
        "outputId": "9f842b9f-6653-43d9-ef4e-a9ea02a34a2f"
      },
      "execution_count": 98,
      "outputs": [
        {
          "output_type": "stream",
          "name": "stdout",
          "text": [
            "[[0.47851067 0.138538   0.60586434 0.58717209]\n",
            " [0.58765981 0.2043842  0.2898918  0.60291159]]\n"
          ]
        }
      ]
    },
    {
      "cell_type": "markdown",
      "source": [
        "\n",
        "# Array Indexing\n",
        "\n",
        "* Accessing elements in the array is similar to accessing elements in a Python List."
      ],
      "metadata": {
        "id": "T-LDxFmxItq3"
      }
    },
    {
      "cell_type": "code",
      "source": [
        "list1= [1,2,3,4,5]\n",
        "list2= [6,7,8,9,0]\n",
        "r1 = np.array([list1,list2])\n",
        "print(r1)\n",
        "print(r1.shape) # 2 rows and 5 columns\n",
        "print(r1[0,0])\n",
        "print(r1[0,1])"
      ],
      "metadata": {
        "id": "ZwWS9xzDJF1K",
        "colab": {
          "base_uri": "https://localhost:8080/"
        },
        "outputId": "235c6c6d-70c0-4ff3-e57e-145c194733a3"
      },
      "execution_count": 99,
      "outputs": [
        {
          "output_type": "stream",
          "name": "stdout",
          "text": [
            "[[1 2 3 4 5]\n",
            " [6 7 8 9 0]]\n",
            "(2, 5)\n",
            "1\n",
            "2\n"
          ]
        }
      ]
    },
    {
      "cell_type": "markdown",
      "source": [
        "## Boolean Indexing"
      ],
      "metadata": {
        "id": "X4JtPP8DKOlq"
      }
    },
    {
      "cell_type": "code",
      "source": [
        "r2=np.array(list1)\n",
        "print(r2)\n",
        "print(r2>2) # Prints a list containing boolean values.\n",
        "print(r2[r2>2]) # [3,4,5]\n",
        "\n",
        "#Write a code to list all the odd numbers from a list of numbers using boolean indexing.\n",
        "nums= np.arange(10)\n",
        "print(nums)\n",
        "odd_nums= nums[nums%2==1]\n",
        "print(odd_nums)\n"
      ],
      "metadata": {
        "id": "MUIMqtrbK1Qi",
        "colab": {
          "base_uri": "https://localhost:8080/"
        },
        "outputId": "ec811a65-64ae-4e00-f102-10930c268b83"
      },
      "execution_count": 100,
      "outputs": [
        {
          "output_type": "stream",
          "name": "stdout",
          "text": [
            "[1 2 3 4 5]\n",
            "[False False  True  True  True]\n",
            "[3 4 5]\n",
            "[0 1 2 3 4 5 6 7 8 9]\n",
            "[1 3 5 7 9]\n"
          ]
        }
      ]
    },
    {
      "cell_type": "markdown",
      "source": [
        "## Slicing Arrays\n",
        "\n",
        "* Very important feature of NumPy, very useful in ML.\n",
        "* Similar to Python List."
      ],
      "metadata": {
        "id": "xSlkMkTlMfi9"
      }
    },
    {
      "cell_type": "code",
      "source": [
        "a=np.array([[1,2,3,4,5],[6,7,8,9,10],[11,12,13,14,15]])\n",
        "print(a)"
      ],
      "metadata": {
        "id": "Vfvv6yNCNVBi",
        "colab": {
          "base_uri": "https://localhost:8080/"
        },
        "outputId": "2f67bd6e-aad3-40e0-86bf-fb68ad0591b4"
      },
      "execution_count": 101,
      "outputs": [
        {
          "output_type": "stream",
          "name": "stdout",
          "text": [
            "[[ 1  2  3  4  5]\n",
            " [ 6  7  8  9 10]\n",
            " [11 12 13 14 15]]\n"
          ]
        }
      ]
    },
    {
      "cell_type": "markdown",
      "source": [
        "* Slicing has the syntax: `start:stop`. So for a 2-D array it becomes:  `[start:stop, start:stop]`"
      ],
      "metadata": {
        "id": "xZc9of11NqrX"
      }
    },
    {
      "cell_type": "code",
      "source": [
        "# We will extract the last two rows and the first two columns using slicing.\n",
        "b1 = a[0:,:2] #row 1 to the last row, and the first 2 columns\n",
        "print(b1)\n",
        "\n"
      ],
      "metadata": {
        "id": "mbc3X9o6OoAb",
        "colab": {
          "base_uri": "https://localhost:8080/"
        },
        "outputId": "46eb2f4a-ad3d-4674-c311-17b0c102a3ac"
      },
      "execution_count": 102,
      "outputs": [
        {
          "output_type": "stream",
          "name": "stdout",
          "text": [
            "[[ 1  2]\n",
            " [ 6  7]\n",
            " [11 12]]\n"
          ]
        }
      ]
    },
    {
      "cell_type": "code",
      "source": [
        "#With negative indexing\n",
        "b2= a[-3:,-5:-3]\n",
        "print(b2)"
      ],
      "metadata": {
        "id": "4SRKyVF7TceD",
        "colab": {
          "base_uri": "https://localhost:8080/"
        },
        "outputId": "bf4256ec-ebc3-4410-f42e-e584fc60bf9b"
      },
      "execution_count": 103,
      "outputs": [
        {
          "output_type": "stream",
          "name": "stdout",
          "text": [
            "[[ 1  2]\n",
            " [ 6  7]\n",
            " [11 12]]\n"
          ]
        }
      ]
    },
    {
      "cell_type": "markdown",
      "source": [
        "Point to Note: Result of slicing is dependent on how you slice it. For eg.\n"
      ],
      "metadata": {
        "id": "X_to1MF_Tysu"
      }
    },
    {
      "cell_type": "code",
      "source": [
        "b3=a[2:,:] # row 2 onwards and all columns.\n",
        "print(b3)\n",
        "print(b3.shape) # Here the result is rank 2. # Rank is simply the number of dimensions(or axes) an array has"
      ],
      "metadata": {
        "id": "SSMpKGboT-Qb",
        "colab": {
          "base_uri": "https://localhost:8080/"
        },
        "outputId": "dd4f2c50-ac5d-45e4-a9d9-4f5c215ab3c1"
      },
      "execution_count": 104,
      "outputs": [
        {
          "output_type": "stream",
          "name": "stdout",
          "text": [
            "[[11 12 13 14 15]]\n",
            "(1, 5)\n"
          ]
        }
      ]
    },
    {
      "cell_type": "code",
      "source": [
        "b4=a[2,:]\n",
        "print(b4)\n",
        "print(b4.shape)"
      ],
      "metadata": {
        "id": "mw_DaX9-U9Ke",
        "colab": {
          "base_uri": "https://localhost:8080/"
        },
        "outputId": "886e22d3-c1fa-4454-c9d3-7dcfd3dfd224"
      },
      "execution_count": 105,
      "outputs": [
        {
          "output_type": "stream",
          "name": "stdout",
          "text": [
            "[11 12 13 14 15]\n",
            "(5,)\n"
          ]
        }
      ]
    },
    {
      "cell_type": "markdown",
      "source": [
        "## Reshaping the Arrays\n",
        "\n",
        "* You can reshape the arrays to other dimensions using the `reshape()` keyword."
      ],
      "metadata": {
        "id": "UzASH7zsVIaN"
      }
    },
    {
      "cell_type": "code",
      "source": [
        "b4 = b4.reshape(1,-1) # First arguement indicates the number of rows.\n",
        "                      # -1 indicates that we leave it to the reshape() function to create the correct number of columns.\n",
        "                      # You can also specify the number of columns in the second argument\n",
        "print(b4)\n",
        "print(b4.shape)"
      ],
      "metadata": {
        "id": "sRAwh3P5VVwS",
        "colab": {
          "base_uri": "https://localhost:8080/"
        },
        "outputId": "e2ce8891-afe5-4dca-eb76-0398cea69edb"
      },
      "execution_count": 106,
      "outputs": [
        {
          "output_type": "stream",
          "name": "stdout",
          "text": [
            "[[11 12 13 14 15]]\n",
            "(1, 5)\n"
          ]
        }
      ]
    },
    {
      "cell_type": "markdown",
      "source": [
        "## Broadcasting"
      ],
      "metadata": {
        "id": "XgRTJ4ZiTjEM"
      }
    },
    {
      "cell_type": "markdown",
      "source": [
        "Broadcasting is a powerful mechanism that allows numpy to work with arrays of different shapes when performing arithmetic operations. Frequently we have a smaller array and a larger array, and we want to use the smaller array multiple times to perform some operation on the larger array.\n",
        "\n",
        "For example"
      ],
      "metadata": {
        "id": "DtxFuG2ITvGO"
      }
    },
    {
      "cell_type": "code",
      "source": [
        "# Given a matrix X which is (nx1), we want to make a matrix such that\n",
        "''' [1, x1, (x1)^2, (x1)^3, ......, (xn)^n\n",
        "     1, x2, (x2)^2, (x2)^3, ......, (xn)^n\n",
        "     ...................\n",
        "     .\n",
        "     .\n",
        "     .\n",
        "     .\n",
        "     .\n",
        "     1, xn, (xn)^2, (xn)^3, ......., (xn)^n]\n",
        "'''\n",
        "#Give a Brute Force Approach using for l\n",
        "\n",
        "\n",
        "X = np.array([1,2,3,4,5]).reshape(5,1)\n",
        "print(X.shape)\n",
        "pow = np.arange(0,len(X))\n",
        "mat = X ** pow\n",
        "print(mat)"
      ],
      "metadata": {
        "id": "vsJSTBvmTisE",
        "colab": {
          "base_uri": "https://localhost:8080/"
        },
        "outputId": "36a1ed25-f336-4b94-88d0-6cbf4e331cfe"
      },
      "execution_count": 107,
      "outputs": [
        {
          "output_type": "stream",
          "name": "stdout",
          "text": [
            "(5, 1)\n",
            "[[  1   1   1   1   1]\n",
            " [  1   2   4   8  16]\n",
            " [  1   3   9  27  81]\n",
            " [  1   4  16  64 256]\n",
            " [  1   5  25 125 625]]\n"
          ]
        }
      ]
    },
    {
      "cell_type": "markdown",
      "source": [
        "## Coding Problem-4\n"
      ],
      "metadata": {
        "id": "GhSlD4_2Uqm1"
      }
    },
    {
      "cell_type": "code",
      "source": [
        "## Write a program that creates a 3x3 matrix with values ranging from 1 to 9. Then, modify the matrix by doubling the values of the second row.\n",
        "\n",
        "# Your Code here.\n",
        "\n",
        "# Create a 3x3 matrix with values from 1 to 9\n",
        "matrix = [\n",
        "    [1, 2, 3],\n",
        "    [4, 5, 6],\n",
        "    [7, 8, 9]\n",
        "]\n",
        "\n",
        "# Print the original matrix\n",
        "print(\"Original matrix:\")\n",
        "for row in matrix:\n",
        "    print(row)\n",
        "\n",
        "# Double the values of the second row\n",
        "matrix[1] = [element * 2 for element in matrix[1]]\n",
        "\n",
        "# Print the modified matrix\n",
        "print(\"\\nModified matrix:\")\n",
        "for row in matrix:\n",
        "    print(row)\n"
      ],
      "metadata": {
        "id": "86bEejFgUt0P",
        "colab": {
          "base_uri": "https://localhost:8080/"
        },
        "outputId": "a8e66656-eacb-4a8d-a325-8981bcd0dc09"
      },
      "execution_count": 108,
      "outputs": [
        {
          "output_type": "stream",
          "name": "stdout",
          "text": [
            "Original matrix:\n",
            "[1, 2, 3]\n",
            "[4, 5, 6]\n",
            "[7, 8, 9]\n",
            "\n",
            "Modified matrix:\n",
            "[1, 2, 3]\n",
            "[8, 10, 12]\n",
            "[7, 8, 9]\n"
          ]
        }
      ]
    },
    {
      "cell_type": "markdown",
      "source": [
        "# **Let's Code: Hangman Game**\n",
        "\n",
        "> Hangman is a simple paper-pencil, word-guessing game where the player must guess the given word within a certain number of guesses.\n",
        "Let's code a simple hangman game in python!\n",
        "\n"
      ],
      "metadata": {
        "id": "pXr5obr4KcwE"
      }
    },
    {
      "cell_type": "code",
      "source": [
        "import random\n",
        "\n",
        "fig = [\"\\n ____\\n|     \\n|    O\\n|       \\n|     \\n|       \\n\",\n",
        "       \"\\n ____\\n|     \\n|    O\\n|    |  \\n|    |\\n|       \\n\",\n",
        "       \"\\n ____\\n|     \\n|    O\\n|   /|  \\n|    |\\n|       \\n\",\n",
        "       \"\\n ____\\n|     \\n|    O\\n|   /|\\\\\\n|    |\\n|       \\n\",\n",
        "       \"\\n ____\\n|     \\n|    O\\n|   /|\\\\\\n|    |\\n|   /   \\n\",\n",
        "       \"\\n ____\\n|     \\n|    O\\n|   /|\\\\\\n|    |\\n|   / \\\\\\n\",\n",
        "       \"\\n ____\\n|    |\\n|    O\\n|   /|\\\\\\n|    |\\n|   / \\\\\\n\"]\n",
        "\n",
        "\n",
        "# Your Code here. Please avoid using Chat-GPT :)\n",
        "# Brownie points for those who will implement the game using Object Oriented Programming Concepts.\n",
        "\n",
        "# List of words to guess from\n",
        "words = [\"python\", \"java\", \"kotlin\", \"javascript\", \"hangman\"]\n",
        "\n",
        "class Hangman:\n",
        "    def __init__(self):\n",
        "        self.word_to_guess = random.choice(words)\n",
        "        self.current_state = ['_'] * len(self.word_to_guess)\n",
        "        self.attempts_left = len(fig) - 1\n",
        "        self.guessed_letters = set()\n",
        "\n",
        "    def display_current_state(self):\n",
        "        print(' '.join(self.current_state))\n",
        "        print(fig[len(fig) - self.attempts_left - 1])\n",
        "\n",
        "    def guess(self, letter):\n",
        "        if letter in self.guessed_letters:\n",
        "            print(\"You already guessed that letter.\")\n",
        "        elif letter in self.word_to_guess:\n",
        "            self.guessed_letters.add(letter)\n",
        "            for idx, char in enumerate(self.word_to_guess):\n",
        "                if char == letter:\n",
        "                    self.current_state[idx] = letter\n",
        "        else:\n",
        "            self.guessed_letters.add(letter)\n",
        "            self.attempts_left -= 1\n",
        "            print(f\"Incorrect guess. You have {self.attempts_left} attempts left.\")\n",
        "\n",
        "    def has_won(self):\n",
        "        return '_' not in self.current_state\n",
        "\n",
        "    def has_lost(self):\n",
        "        return self.attempts_left <= 0\n",
        "\n",
        "def main():\n",
        "    game = Hangman()\n",
        "\n",
        "    print(\"Welcome to Hangman!\")\n",
        "    while not game.has_won() and not game.has_lost():\n",
        "        game.display_current_state()\n",
        "        guess = input(\"Enter a letter to guess: \").lower()\n",
        "        game.guess(guess)\n",
        "\n",
        "    if game.has_won():\n",
        "        print(\"Congratulations! You won!\")\n",
        "    else:\n",
        "        print(f\"Game over! The word was: {game.word_to_guess}\")\n",
        "    game.display_current_state()\n",
        "\n",
        "if __name__ == \"__main__\":\n",
        "    main()\n",
        "\n",
        "\n",
        "\n"
      ],
      "metadata": {
        "id": "soq8soYLKg4g",
        "colab": {
          "base_uri": "https://localhost:8080/"
        },
        "outputId": "76f359ad-2a10-41cc-e8ee-23577654d1a2"
      },
      "execution_count": 113,
      "outputs": [
        {
          "output_type": "stream",
          "name": "stdout",
          "text": [
            "Welcome to Hangman!\n",
            "_ _ _ _ _ _ _ _ _ _\n",
            "\n",
            " ____\n",
            "|     \n",
            "|    O\n",
            "|       \n",
            "|     \n",
            "|       \n",
            "\n",
            "Enter a letter to guess: Java\n",
            "_ _ _ _ _ _ _ _ _ _\n",
            "\n",
            " ____\n",
            "|     \n",
            "|    O\n",
            "|       \n",
            "|     \n",
            "|       \n",
            "\n",
            "Enter a letter to guess: python\n",
            "Incorrect guess. You have 5 attempts left.\n",
            "_ _ _ _ _ _ _ _ _ _\n",
            "\n",
            " ____\n",
            "|     \n",
            "|    O\n",
            "|    |  \n",
            "|    |\n",
            "|       \n",
            "\n",
            "Enter a letter to guess: hardik\n",
            "Incorrect guess. You have 4 attempts left.\n",
            "_ _ _ _ _ _ _ _ _ _\n",
            "\n",
            " ____\n",
            "|     \n",
            "|    O\n",
            "|   /|  \n",
            "|    |\n",
            "|       \n",
            "\n",
            "Enter a letter to guess: jasmin\n",
            "Incorrect guess. You have 3 attempts left.\n",
            "_ _ _ _ _ _ _ _ _ _\n",
            "\n",
            " ____\n",
            "|     \n",
            "|    O\n",
            "|   /|\\\n",
            "|    |\n",
            "|       \n",
            "\n",
            "Enter a letter to guess: deep\n",
            "Incorrect guess. You have 2 attempts left.\n",
            "_ _ _ _ _ _ _ _ _ _\n",
            "\n",
            " ____\n",
            "|     \n",
            "|    O\n",
            "|   /|\\\n",
            "|    |\n",
            "|   /   \n",
            "\n",
            "Enter a letter to guess: my\n",
            "Incorrect guess. You have 1 attempts left.\n",
            "_ _ _ _ _ _ _ _ _ _\n",
            "\n",
            " ____\n",
            "|     \n",
            "|    O\n",
            "|   /|\\\n",
            "|    |\n",
            "|   / \\\n",
            "\n",
            "Enter a letter to guess: java\n",
            "You already guessed that letter.\n",
            "_ _ _ _ _ _ _ _ _ _\n",
            "\n",
            " ____\n",
            "|     \n",
            "|    O\n",
            "|   /|\\\n",
            "|    |\n",
            "|   / \\\n",
            "\n",
            "Enter a letter to guess: jasmin\n",
            "You already guessed that letter.\n",
            "_ _ _ _ _ _ _ _ _ _\n",
            "\n",
            " ____\n",
            "|     \n",
            "|    O\n",
            "|   /|\\\n",
            "|    |\n",
            "|   / \\\n",
            "\n",
            "Enter a letter to guess: 10\n",
            "Incorrect guess. You have 0 attempts left.\n",
            "Game over! The word was: javascript\n",
            "_ _ _ _ _ _ _ _ _ _\n",
            "\n",
            " ____\n",
            "|    |\n",
            "|    O\n",
            "|   /|\\\n",
            "|    |\n",
            "|   / \\\n",
            "\n"
          ]
        }
      ]
    },
    {
      "cell_type": "markdown",
      "source": [
        "For more examples on python and numpy, you can also go through the following tutorial.\n",
        "\n",
        "https://cs231n.github.io/python-numpy-tutorial/\n"
      ],
      "metadata": {
        "id": "p2ZI_dZfdZ1Q"
      }
    }
  ]
}